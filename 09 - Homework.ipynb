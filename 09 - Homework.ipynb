{
 "cells": [
  {
   "cell_type": "markdown",
   "id": "aa146bf4",
   "metadata": {},
   "source": [
    "# Homework 09: SQL\n",
    "\n",
    "Total questions: 6<br/>\n",
    "Total points: 11\n",
    "\n",
    "### FYI\n",
    "\n",
    "In class, we used paths on your local machine outside of the notebook to persist data, but here, we'll use a special argument – `:memory:` – that `sqlite3` has which stores the database in-memory -- in otherwords, the database will live only so long as you're running the notebook. Afterwards, it will be thrown away. Usually this argument is useful when experimenting, given that as we discussed, it is persistence that often makes databases useful. We use it here however simply to avoid needing to upload multiple files to Courseworks -- everything you need is here.\n",
    "\n",
    "If for any reason you need to discard the contents of your database to start over, you may therefore do so by simply restarting the \"kernel\" of this notebook, which you can do by clicking the restart button in the toolbar (it's 2 buttons to the right of the \"Run\" button) or in the Kernel menu."
   ]
  },
  {
   "cell_type": "markdown",
   "id": "c076d7ea",
   "metadata": {},
   "source": [
    "## Question 1\n",
    "\n",
    "We'll start by creating some tables to store our data -- we'll first have one containing some product information.\n",
    "\n",
    "Products have:\n",
    "\n",
    "* a name (`TEXT`)\n",
    "* a description (`TEXT`)\n",
    "* a unit cost stored in cents (`INTEGER`)\n",
    "\n",
    "and of course we also add an id column to identify them.\n",
    "\n",
    "The SQL to create each table is below. Execute it on the connection provided below to create the table.\n",
    "\n",
    "```sql\n",
    "CREATE TABLE IF NOT EXISTS products (\n",
    "    id INTEGER PRIMARY KEY,\n",
    "    name TEXT,\n",
    "    description TEXT,\n",
    "    unit_cost_cents INTEGER\n",
    ")\n",
    "```\n",
    "\n",
    "[0.5 points]"
   ]
  },
  {
   "cell_type": "code",
   "execution_count": 3,
   "id": "b9b32f37",
   "metadata": {},
   "outputs": [],
   "source": [
    "import sqlite3\n",
    "connection = sqlite3.connect(\":memory:\")  # this is our in-memory database, not stored on your hard drive\n",
    "\n",
    "# Solution\n",
    "with connection:\n",
    "    connection.execute(\n",
    "        \"\"\"\n",
    "        CREATE TABLE IF NOT EXISTS products (\n",
    "            id INTEGER PRIMARY KEY,\n",
    "            name TEXT,\n",
    "            description TEXT,\n",
    "            unit_cost_cents INTEGER\n",
    "        )\n",
    "        \"\"\"\n",
    "    )\n"
   ]
  },
  {
   "cell_type": "code",
   "execution_count": 4,
   "id": "5b474c34",
   "metadata": {},
   "outputs": [],
   "source": [
    "# autograder tests\n",
    "with connection:\n",
    "    result = connection.execute(\n",
    "        \"\"\"\n",
    "        SELECT name FROM sqlite_master WHERE type='table';\n",
    "        \"\"\"\n",
    "    )\n",
    "    tables = {table for table, in result}\n",
    "assert \"products\" in tables"
   ]
  },
  {
   "cell_type": "markdown",
   "id": "14a684bc",
   "metadata": {},
   "source": [
    "## Question 2\n",
    "\n",
    "Separately, we'd like to track the number of items in stock for each product.\n",
    "\n",
    "To do so we'll have a `store` and an `inventory` table.\n",
    "\n",
    "Stores have just an `id` and a `name`. **Create this table** yourself with a similar `CREATE TABLE` statement to the above.\n",
    "\n",
    "Then, our `inventory` table should combine stores and products, listing how much of each product each store has in stock.\n",
    "\n",
    "* a `product_id` (`INTEGER`)\n",
    "* a `store_id` (`INTEGER`)\n",
    "* a `quantity` (`INTEGER`) in stock\n",
    "\n",
    "_(Note: in this case below, we actually don't need a separate `id` column because we can use the combination of `store_id` and `product_id` to identify each row. This is known as a_ composite primary key _and is another fundamental relational database concept, but can be ignored if need be for our purposes)._\n",
    "\n",
    "Here is a statement creating this table:\n",
    "\n",
    "```sql\n",
    "CREATE TABLE IF NOT EXISTS inventory (\n",
    "    product_id INTEGER NOT NULL,\n",
    "    store_id INTEGER NOT NULL,\n",
    "    quantity INTEGER,\n",
    "    FOREIGN KEY (product_id) REFERENCES products(id),\n",
    "    FOREIGN KEY (store_id) REFERENCES stores(id),\n",
    "    PRIMARY KEY (product_id, store_id)\n",
    ")\n",
    "```\n",
    "which you should execute as well.\n",
    "\n",
    "[0.5 points]"
   ]
  },
  {
   "cell_type": "code",
   "execution_count": 5,
   "id": "2e02d1c5",
   "metadata": {},
   "outputs": [],
   "source": [
    "# solution\n",
    "with connection:\n",
    "    connection.execute(\n",
    "        \"\"\"\n",
    "        CREATE TABLE IF NOT EXISTS stores (\n",
    "            id INTEGER PRIMARY KEY,\n",
    "            name TEXT\n",
    "        )\n",
    "        \"\"\"\n",
    "    )\n",
    "    connection.execute(\n",
    "        \"\"\"\n",
    "        CREATE TABLE IF NOT EXISTS inventory (\n",
    "            product_id INTEGER NOT NULL,\n",
    "            store_id INTEGER NOT NULL,\n",
    "            quantity INTEGER,\n",
    "            FOREIGN KEY (product_id) REFERENCES products(id),\n",
    "            FOREIGN KEY (store_id) REFERENCES stores(id),\n",
    "            PRIMARY KEY (product_id, store_id)\n",
    "        )\n",
    "        \"\"\"\n",
    "    )"
   ]
  },
  {
   "cell_type": "code",
   "execution_count": 6,
   "id": "1f105cf8",
   "metadata": {},
   "outputs": [],
   "source": [
    "# autograder tests\n",
    "with connection:\n",
    "    result = connection.execute(\n",
    "        \"\"\"\n",
    "        SELECT name FROM sqlite_master WHERE type='table';\n",
    "        \"\"\"\n",
    "    )\n",
    "    tables = {table for table, in result}\n",
    "assert all(table in tables for table in {\"products\", \"inventory\"})\n",
    "assert \"store\" in tables or \"stores\" in tables"
   ]
  },
  {
   "cell_type": "markdown",
   "id": "0e5b0a1d",
   "metadata": {},
   "source": [
    "## Question 3\n",
    "\n",
    "Now we can insert some stores, products and inventory into our database.\n",
    "\n",
    "There are 2 stores -- one called `NY` and one called `NJ`. There are 2 products we are concerned with. Their names are `sneakers`, costing `$220` (remember this is dollars!) and boots costing `$350`. Use any description for each that you'd like. `NY` has 4 sneakers in stock and 3 boots. `NJ` has 5 sneakers in stock and no boots.\n",
    "\n",
    "Insert the above data into the tables you have created.\n",
    "\n",
    "[4 points]"
   ]
  },
  {
   "cell_type": "code",
   "execution_count": 7,
   "id": "caa3fb03",
   "metadata": {},
   "outputs": [],
   "source": [
    "# solution\n",
    "with connection:\n",
    "    ny_id = connection.execute('INSERT INTO stores (name) VALUES (\"NY\")').lastrowid    \n",
    "    nj_id = connection.execute('INSERT INTO stores (name) VALUES (\"NJ\")').lastrowid\n",
    "\n",
    "    connection.executemany(\n",
    "        \"\"\"\n",
    "        INSERT INTO products (name, description, unit_cost_cents)\n",
    "             VALUES (?, ?, ?)\n",
    "        \"\"\", [\n",
    "            (\"sneakers\", \"A pair of sneakers\", 22000),\n",
    "            (\"boots\", \"A pair of boots\", 35000),\n",
    "        ],\n",
    "    )\n",
    "    \n",
    "    product_ids = dict(connection.execute(\"SELECT name, id FROM products\"))\n",
    "    \n",
    "    connection.executemany(\n",
    "        \"\"\"\n",
    "        INSERT INTO inventory (store_id, product_id, quantity)\n",
    "             VALUES (?, ?, ?)\n",
    "        \"\"\", [\n",
    "            (ny_id, product_ids[\"sneakers\"], 4),\n",
    "            (ny_id, product_ids[\"boots\"], 3),\n",
    "            (nj_id, product_ids[\"sneakers\"], 5),\n",
    "            (nj_id, product_ids[\"boots\"], 0),\n",
    "        ],\n",
    "    )"
   ]
  },
  {
   "cell_type": "code",
   "execution_count": 8,
   "id": "6a0d9b54",
   "metadata": {},
   "outputs": [],
   "source": [
    "# autograder tests\n",
    "with connection:\n",
    "    try:\n",
    "        result = connection.execute(\n",
    "            \"\"\"\n",
    "            SELECT name FROM store\n",
    "            \"\"\"\n",
    "        )\n",
    "    except sqlite3.OperationalError:\n",
    "        result = connection.execute(\n",
    "            \"\"\"\n",
    "            SELECT name FROM stores\n",
    "            \"\"\"\n",
    "        )\n",
    "    stores = {store for store, in result}\n",
    "assert stores == {\"NY\", \"NJ\"}, stores"
   ]
  },
  {
   "cell_type": "code",
   "execution_count": 9,
   "id": "6feda171",
   "metadata": {},
   "outputs": [],
   "source": [
    "# autograder tests\n",
    "with connection:\n",
    "    result = connection.execute(\n",
    "        \"\"\"\n",
    "        SELECT name, unit_cost_cents FROM products\n",
    "        \"\"\"\n",
    "    ).fetchall()\n",
    "assert set(result) == {(\"sneakers\", 22000), (\"boots\", 35000)}, result"
   ]
  },
  {
   "cell_type": "code",
   "execution_count": 10,
   "id": "b34df61d",
   "metadata": {},
   "outputs": [],
   "source": [
    "# autograder tests\n",
    "with connection:\n",
    "    try:\n",
    "        result = connection.execute(\n",
    "            \"\"\"\n",
    "            SELECT store.name, products.name, quantity\n",
    "              FROM inventory\n",
    "              JOIN products ON inventory.product_id = products.id\n",
    "              JOIN store ON inventory.store_id = store.id\n",
    "            \"\"\"\n",
    "        ).fetchall()\n",
    "    except sqlite3.OperationalError:\n",
    "        result = connection.execute(\n",
    "            \"\"\"\n",
    "            SELECT stores.name, products.name, quantity\n",
    "              FROM inventory\n",
    "              JOIN products ON inventory.product_id = products.id\n",
    "              JOIN stores ON inventory.store_id = stores.id\n",
    "            \"\"\"\n",
    "        ).fetchall()\n",
    "assert set(result) == {\n",
    "    (\"NY\", \"sneakers\", 4), \n",
    "    (\"NY\", \"boots\", 3), \n",
    "    (\"NJ\", \"sneakers\", 5), \n",
    "    (\"NJ\", \"boots\", 0)\n",
    "}, result"
   ]
  },
  {
   "cell_type": "markdown",
   "id": "d2d9f757",
   "metadata": {},
   "source": [
    "## Question 4\n",
    "\n",
    "We can of course calculate the total amount of products across all stores.\n",
    "\n",
    "Write, but do not execute! a `SELECT` query which calculates this sum and returns it as its single returned column. You'll want to use a `SQL` function called `SUM` which functions much like the `COUNT` aggregation function we used in class.\n",
    "\n",
    "Assign your query to a variable called `query`.\n",
    "\n",
    "[1.5 point]"
   ]
  },
  {
   "cell_type": "code",
   "execution_count": 11,
   "id": "22718664",
   "metadata": {},
   "outputs": [],
   "source": [
    "# Solution\n",
    "query = \"\"\"\n",
    "SELECT SUM(quantity) FROM inventory\n",
    "\"\"\""
   ]
  },
  {
   "cell_type": "code",
   "execution_count": 12,
   "id": "8edadb30",
   "metadata": {},
   "outputs": [],
   "source": [
    "# autograder tests\n",
    "with connection:\n",
    "    total, = connection.execute(query).fetchone()\n",
    "assert total == 12, total"
   ]
  },
  {
   "cell_type": "code",
   "execution_count": 13,
   "id": "d68d9d5d",
   "metadata": {},
   "outputs": [],
   "source": [
    "# autograder tests\n",
    "assert \"select\" in query.lower()\n",
    "assert \"quantity\" in query.lower()"
   ]
  },
  {
   "cell_type": "markdown",
   "id": "05d8801a",
   "metadata": {},
   "source": [
    "## Question 5\n",
    "\n",
    "What about the total value _in cents_ of all products in stock? I.e. the `sum of (quantity in stock * cost of product across all products)`?\n",
    "\n",
    "Create a function called `total_current_value` which returns this `int`. You may calculate this entirely in SQL or partially in Python after retrieving the data you need from the database. You must however retrieve some of the data from the database.\n",
    "\n",
    "[1.5 points]"
   ]
  },
  {
   "cell_type": "code",
   "execution_count": 14,
   "id": "5eac4443",
   "metadata": {},
   "outputs": [],
   "source": [
    "# solution\n",
    "def total_current_value():\n",
    "    with connection:\n",
    "        result = connection.execute(\n",
    "            \"\"\"\n",
    "            SELECT store_id, products.unit_cost_cents, quantity\n",
    "              FROM inventory\n",
    "              JOIN products ON inventory.product_id = products.id\n",
    "            \"\"\"\n",
    "        )\n",
    "        return sum(cost * quantity for _, cost, quantity in result)"
   ]
  },
  {
   "cell_type": "code",
   "execution_count": 15,
   "id": "87450db6",
   "metadata": {},
   "outputs": [],
   "source": [
    "# autograder tests\n",
    "assert total_current_value() == 303000, total_current_value()"
   ]
  },
  {
   "cell_type": "code",
   "execution_count": 16,
   "id": "11ff0314",
   "metadata": {},
   "outputs": [],
   "source": [
    "# autograder tests\n",
    "assert \"connection\" in total_current_value.__code__.co_names"
   ]
  },
  {
   "cell_type": "markdown",
   "id": "38ab2092",
   "metadata": {},
   "source": [
    "## Question 6\n",
    "\n",
    "Let's say we have a spreadsheet of historical hourly weather information:\n",
    "\n",
    "| timestamp           | station_code | temp  | conditions |\n",
    "|---------------------|--------------|-------|------------|\n",
    "| 2023-03-26 14:00:00 | 12           | 56.4  | Clear Sky  |\n",
    "| 2023-03-26 13:30:00 | 11           | 42.0  | Few Clouds |\n",
    "| 2023-03-26 13:00:00 | 12           | 55.8  | Clear Sky  |\n",
    "| 2023-03-26 12:30:00 | 11           | 41.5  | Overcast   |\n",
    "\n",
    "\n",
    "We want to put all that historical data into our database, but first: we have to create the table.\n",
    "\n",
    "Write a string that, when executed, will create a table called `hourly_weather` for our weather information. Assign that string to the variable `weather_schema`. \n",
    "\n",
    "Be sure to:\n",
    "* define & declare a primary key named `id`\n",
    "* use appropriate data types\n",
    "* write valid SQL\n",
    "* use the column titles in the example data as column names in your schema\n",
    "\n",
    "You can assume the data types deduced in the example will _not_ change. \n",
    "\n",
    "Refer to the first column in the table in section [3.1.1 Affinity Name Examples](https://www.sqlite.org/datatype3.html) in SQLite's documentation for better names of data types to use other than the basics it supports. Specifically, any of the following: `INTEGER`, `FLOAT`, `REAL`, `BLOB`, `TEXT`, `BOOLEAN`, `DATE`, and `DATETIME`.\n",
    "\n",
    "[3 points]"
   ]
  },
  {
   "cell_type": "code",
   "execution_count": 17,
   "id": "5b1639e1",
   "metadata": {},
   "outputs": [],
   "source": [
    "# Solution\n",
    "weather_schema = \"\"\"\n",
    "CREATE TABLE IF NOT EXISTS hourly_weather (\n",
    "    id INTEGER PRIMARY KEY,\n",
    "    timestamp DATETIME,\n",
    "    station_code INTEGER,\n",
    "    temp FLOAT,\n",
    "    conditions TEXT\n",
    ")\n",
    "\"\"\""
   ]
  },
  {
   "cell_type": "code",
   "execution_count": 18,
   "id": "fa981261",
   "metadata": {},
   "outputs": [],
   "source": [
    "# Autograder test - 0.5 points\n",
    "# Ensure valid SQL is written\n",
    "\n",
    "# make a new in-memory database\n",
    "connection = sqlite3.connect(\":memory:\")\n",
    "\n",
    "with connection:\n",
    "    connection.execute(weather_schema)"
   ]
  },
  {
   "cell_type": "code",
   "execution_count": 19,
   "id": "3f5292af",
   "metadata": {},
   "outputs": [],
   "source": [
    "# Autograder test - 0.5 points\n",
    "# Ensure the table created has the expected name\n",
    "QUERY = \"\"\"\n",
    "SELECT name \n",
    "FROM sqlite_master \n",
    "WHERE type='table' AND name NOT LIKE 'sqlite_%'\n",
    "\"\"\"\n",
    "\n",
    "with connection:\n",
    "    rows = list(connection.execute(QUERY))\n",
    "    \n",
    "assert len(rows) == 1\n",
    "table = rows[0]\n",
    "assert len(table) == 1\n",
    "table_name = table[0]\n",
    "\n",
    "assert \"hourly_weather\" == table_name, table_name"
   ]
  },
  {
   "cell_type": "code",
   "execution_count": 20,
   "id": "bff53057",
   "metadata": {},
   "outputs": [],
   "source": [
    "# Autograder test - 0.5 points\n",
    "# Ensure primary key is defined\n",
    "QUERY = f\"PRAGMA table_info({table_name})\"\n",
    "\n",
    "with connection:\n",
    "    rows = list(connection.execute(QUERY))\n",
    "\n",
    "assert len(rows) == 5, f\"Expected 5 columns, got {len(rows)}.\"\n",
    "\n",
    "primary_keys = []\n",
    "for row in rows:\n",
    "    if row[-1] == 1:\n",
    "        primary_keys.append(row[1])\n",
    "        \n",
    "assert len(primary_keys) == 1, f\"Found {len(primary_keys)} primary key(s), expected 1\"\n",
    "assert primary_keys[0] == \"id\", f\"Primary key should be named 'id', found '{primary_keys[0]}'\""
   ]
  },
  {
   "cell_type": "code",
   "execution_count": 21,
   "id": "ed2eaa55",
   "metadata": {},
   "outputs": [],
   "source": [
    "# Autograder test - 0.5 points\n",
    "# Ensure expected column names\n",
    "QUERY = f\"PRAGMA table_info({table_name})\"\n",
    "\n",
    "with connection:\n",
    "    rows = list(connection.execute(QUERY))\n",
    "\n",
    "expected_column_names = sorted([\"id\", \"timestamp\", \"station_code\", \"temp\", \"conditions\"])\n",
    "actual_column_names = sorted([row[1] for row in rows])\n",
    "\n",
    "assert expected_column_names == actual_column_names, f\"Expected: {', '.join(expected_column_names)}\\nGot: {', '.join(actual_column_names)}\""
   ]
  },
  {
   "cell_type": "code",
   "execution_count": 22,
   "id": "6994e8d6",
   "metadata": {},
   "outputs": [],
   "source": [
    "# Autograder test - 1 point\n",
    "# Ensure expected column types\n",
    "QUERY = f\"PRAGMA table_info({table_name})\"\n",
    "\n",
    "with connection:\n",
    "    rows = list(connection.execute(QUERY))\n",
    "\n",
    "actual_name_to_types = {row[1]: row[2] for row in rows}\n",
    "actual_types = sorted([row[2] for row in rows])\n",
    "\n",
    "assert actual_name_to_types[\"id\"] == \"INTEGER\", \"Expected `INTEGER` for 'id'\"\n",
    "assert actual_name_to_types[\"timestamp\"] in (\"DATETIME\", \"TEXT\"), \"Expected `DATETIME` or `TEXT` for 'timestamp'\"\n",
    "assert actual_name_to_types[\"station_code\"] == \"INTEGER\", \"Expected `INTEGER` for 'station_code'\"\n",
    "assert actual_name_to_types[\"temp\"] in (\"FLOAT\", \"REAL\"), \"Expected `FLOAT` or `REAL` for 'temp'\"\n",
    "assert actual_name_to_types[\"conditions\"] == \"TEXT\", \"Expected `TEXT` for 'conditions'\""
   ]
  },
  {
   "cell_type": "code",
   "execution_count": 23,
   "id": "5f759e63",
   "metadata": {},
   "outputs": [],
   "source": [
    "# Autograder test - 0 points\n",
    "# Zero point test: suggest to use datetime\n",
    "\n",
    "msg = (\n",
    "    \"While `DATETIME` and other similar types are not explicitly \\n\"\n",
    "    \"supported in SQLite, `DATETIME` is supported as an alias to \\n\"\n",
    "    \"`TEXT`. It's better to use `DATETIME` and other alias types \\n\"\n",
    "    \"so readers of your code (and future you) understand what is \\n\"\n",
    "    \"expected for this table.\\nSee Affinity Name Examples (\"\n",
    "    \"https://www.sqlite.org/datatype3.html) for more info.\"\n",
    ")\n",
    "assert actual_name_to_types[\"timestamp\"] == \"DATETIME\", msg"
   ]
  }
 ],
 "metadata": {
  "kernelspec": {
   "display_name": "Python 3 (ipykernel)",
   "language": "python",
   "name": "python3"
  },
  "language_info": {
   "codemirror_mode": {
    "name": "ipython",
    "version": 3
   },
   "file_extension": ".py",
   "mimetype": "text/x-python",
   "name": "python",
   "nbconvert_exporter": "python",
   "pygments_lexer": "ipython3",
   "version": "3.9.9"
  }
 },
 "nbformat": 4,
 "nbformat_minor": 5
}
