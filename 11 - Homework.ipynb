{
 "cells": [
  {
   "cell_type": "markdown",
   "id": "32c9f628",
   "metadata": {},
   "source": [
    "# Homework 11\n",
    "\n",
    "Total questions: 6<br/>\n",
    "Total points: 6\n",
    "\n",
    "This notebook will ask you to do some simple data manipulation using pandas on an example dataset.\n",
    "\n",
    "The dataset used is provided in the first cell and is a subset of one known as the [Palmer penguins dataset](https://github.com/allisonhorst/palmerpenguins), containing collected data on penguins found on a number of islands in Antarctica. The labels of the dataframe below, accessible via a variable called `df`, are identifiers of each penguin observed."
   ]
  },
  {
   "cell_type": "code",
   "execution_count": 1,
   "id": "6d0b2fe7",
   "metadata": {},
   "outputs": [],
   "source": [
    "import numpy as np\n",
    "import pandas as pd\n",
    "data = {'species': {4: 'Adelie',\n",
    "  118: 'Adelie',\n",
    "  160: 'Chinstrap',\n",
    "  163: 'Chinstrap',\n",
    "  177: 'Chinstrap',\n",
    "  37: 'Adelie',\n",
    "  291: 'Gentoo',\n",
    "  256: 'Gentoo',\n",
    "  147: 'Adelie',\n",
    "  179: 'Chinstrap',\n",
    "  38: 'Adelie',\n",
    "  207: 'Chinstrap',\n",
    "  257: 'Gentoo',\n",
    "  3: 'Adelie',\n",
    "  159: 'Chinstrap',\n",
    "  115: 'Adelie',\n",
    "  24: 'Adelie',\n",
    "  171: 'Chinstrap',\n",
    "  7: 'Adelie',\n",
    "  28: 'Adelie'},\n",
    " 'island': {4: 'Torgersen',\n",
    "  118: 'Torgersen',\n",
    "  160: 'Dream',\n",
    "  163: 'Dream',\n",
    "  177: 'Dream',\n",
    "  37: 'Dream',\n",
    "  291: 'Biscoe',\n",
    "  256: 'Biscoe',\n",
    "  147: 'Dream',\n",
    "  179: 'Dream',\n",
    "  38: 'Dream',\n",
    "  207: 'Dream',\n",
    "  257: 'Biscoe',\n",
    "  3: 'Torgersen',\n",
    "  159: 'Dream',\n",
    "  115: 'Biscoe',\n",
    "  24: 'Biscoe',\n",
    "  171: 'Dream',\n",
    "  7: 'Torgersen',\n",
    "  28: 'Biscoe'},\n",
    " 'bill_length_mm': {4: 36.7,\n",
    "  118: 35.7,\n",
    "  160: 46.0,\n",
    "  163: 51.7,\n",
    "  177: 52.0,\n",
    "  37: 42.2,\n",
    "  291: 46.4,\n",
    "  256: 42.6,\n",
    "  147: 36.6,\n",
    "  179: 49.5,\n",
    "  38: 37.6,\n",
    "  207: 52.2,\n",
    "  257: 44.4,\n",
    "  3: np.nan,\n",
    "  159: 51.3,\n",
    "  115: 42.7,\n",
    "  24: 38.8,\n",
    "  171: 49.2,\n",
    "  7: 39.2,\n",
    "  28: 37.9},\n",
    " 'bill_depth_mm': {4: 19.3,\n",
    "  118: 17.0,\n",
    "  160: 18.9,\n",
    "  163: 20.3,\n",
    "  177: 19.0,\n",
    "  37: 18.5,\n",
    "  291: 15.6,\n",
    "  256: 13.7,\n",
    "  147: 18.4,\n",
    "  179: 19.0,\n",
    "  38: 19.3,\n",
    "  207: 18.8,\n",
    "  257: 17.3,\n",
    "  3: np.nan,\n",
    "  159: 18.2,\n",
    "  115: 18.3,\n",
    "  24: 17.2,\n",
    "  171: 18.2,\n",
    "  7: 19.6,\n",
    "  28: 18.6},\n",
    " 'flipper_length_mm': {4: 193.0,\n",
    "  118: 189.0,\n",
    "  160: 195.0,\n",
    "  163: 194.0,\n",
    "  177: 197.0,\n",
    "  37: 180.0,\n",
    "  291: 221.0,\n",
    "  256: 213.0,\n",
    "  147: 184.0,\n",
    "  179: 200.0,\n",
    "  38: 181.0,\n",
    "  207: 197.0,\n",
    "  257: 219.0,\n",
    "  3: np.nan,\n",
    "  159: 197.0,\n",
    "  115: 196.0,\n",
    "  24: 180.0,\n",
    "  171: 195.0,\n",
    "  7: 195.0,\n",
    "  28: 172.0},\n",
    " 'body_mass_g': {4: 3450.0,\n",
    "  118: 3350.0,\n",
    "  160: 4150.0,\n",
    "  163: 3775.0,\n",
    "  177: 4150.0,\n",
    "  37: 3550.0,\n",
    "  291: 5000.0,\n",
    "  256: 4950.0,\n",
    "  147: 3475.0,\n",
    "  179: 3800.0,\n",
    "  38: 3300.0,\n",
    "  207: 3450.0,\n",
    "  257: 5250.0,\n",
    "  3: np.nan,\n",
    "  159: 3750.0,\n",
    "  115: 4075.0,\n",
    "  24: 3800.0,\n",
    "  171: 4400.0,\n",
    "  7: 4675.0,\n",
    "  28: 3150.0},\n",
    " 'sex': {4: 'Female',\n",
    "  118: 'Female',\n",
    "  160: 'Female',\n",
    "  163: 'Male',\n",
    "  177: 'Male',\n",
    "  37: 'Female',\n",
    "  291: 'Male',\n",
    "  256: 'Female',\n",
    "  147: 'Female',\n",
    "  179: 'Male',\n",
    "  38: 'Female',\n",
    "  207: 'Male',\n",
    "  257: 'Male',\n",
    "  3: np.nan,\n",
    "  159: 'Male',\n",
    "  115: 'Male',\n",
    "  24: 'Male',\n",
    "  171: 'Male',\n",
    "  7: 'Male',\n",
    "  28: 'Female'}}\n",
    "df = pd.DataFrame(data)"
   ]
  },
  {
   "cell_type": "markdown",
   "id": "334343db",
   "metadata": {},
   "source": [
    "## Question 1\n",
    "\n",
    "How many penguins are there in total of each species in the dataframe?\n",
    "\n",
    "Assign the answer to this question, which should be a `pandas.Series`, to a variable called `species_counts`.\n",
    "\n",
    "[1 point]"
   ]
  },
  {
   "cell_type": "code",
   "execution_count": 2,
   "id": "c1297430",
   "metadata": {},
   "outputs": [],
   "source": [
    "# solution\n",
    "species_counts = df.species.value_counts()"
   ]
  },
  {
   "cell_type": "code",
   "execution_count": 3,
   "id": "cf809dd0",
   "metadata": {},
   "outputs": [],
   "source": [
    "# autograder tests\n",
    "assert \"species_counts\" in locals()"
   ]
  },
  {
   "cell_type": "code",
   "execution_count": 4,
   "id": "64a5359c",
   "metadata": {},
   "outputs": [],
   "source": [
    "# autograder tests\n",
    "assert species_counts.equals(pd.Series({\"Adelie\": 10, \"Chinstrap\": 7, \"Gentoo\": 3})), species_counts"
   ]
  },
  {
   "cell_type": "markdown",
   "id": "8751b74c",
   "metadata": {},
   "source": [
    "## Question 2\n",
    "\n",
    "What row in the dataframe contains the penguin with the longest bill? The bill length is found in the column labelled `bill_length_mm`. Assign this row to a variable called `longest_bill`.\n",
    "\n",
    "[1 point]"
   ]
  },
  {
   "cell_type": "code",
   "execution_count": 5,
   "id": "6aac4d72",
   "metadata": {},
   "outputs": [],
   "source": [
    "# solution\n",
    "longest_bill = df.loc[df.bill_length_mm.idxmax()]"
   ]
  },
  {
   "cell_type": "code",
   "execution_count": 6,
   "id": "140c7114",
   "metadata": {},
   "outputs": [],
   "source": [
    "# autograder tess\n",
    "assert \"longest_bill\" in locals()"
   ]
  },
  {
   "cell_type": "code",
   "execution_count": 7,
   "id": "06461c6b",
   "metadata": {},
   "outputs": [],
   "source": [
    "# autograder tests\n",
    "if isinstance(longest_bill, pd.DataFrame):\n",
    "    longest_bill = longest_bill.iloc[0]\n",
    "assert longest_bill.equals(df.loc[207]), longest_bill"
   ]
  },
  {
   "cell_type": "markdown",
   "id": "2a0f69f9",
   "metadata": {},
   "source": [
    "## Question 3\n",
    "\n",
    "What are all of the penguins whose body mass is less than 4 kilograms? The body mass is found in the column labelled `body_mass_g`. Assign the answer as a dataframe, including all columns from the original dataframe, to a variable called `lightweight_penguins`.\n",
    "\n",
    "[1 point]"
   ]
  },
  {
   "cell_type": "code",
   "execution_count": 8,
   "id": "a8fac6a2",
   "metadata": {},
   "outputs": [],
   "source": [
    "# solution\n",
    "lightweight_penguins = df[df.body_mass_g < 4000]"
   ]
  },
  {
   "cell_type": "code",
   "execution_count": 9,
   "id": "caf7e8f7",
   "metadata": {},
   "outputs": [],
   "source": [
    "# autograder tests\n",
    "assert \"lightweight_penguins\" in locals()"
   ]
  },
  {
   "cell_type": "code",
   "execution_count": 10,
   "id": "9a750953",
   "metadata": {},
   "outputs": [],
   "source": [
    "# autograder tests\n",
    "assert lightweight_penguins.equals(df[df.body_mass_g < 4000]), lightweight_penguins"
   ]
  },
  {
   "cell_type": "markdown",
   "id": "a53a7327",
   "metadata": {},
   "source": [
    "## Question 4\n",
    "\n",
    "What are the first 3 rows in the dataframe positionally?\n",
    "\n",
    "Assign the answer to this question to a variable `first_3`.\n",
    "\n",
    "[1 point]"
   ]
  },
  {
   "cell_type": "code",
   "execution_count": 11,
   "id": "c2a375b3",
   "metadata": {},
   "outputs": [],
   "source": [
    "# solution\n",
    "first_3 = df.head(3)"
   ]
  },
  {
   "cell_type": "code",
   "execution_count": 12,
   "id": "510065ba",
   "metadata": {},
   "outputs": [],
   "source": [
    "# autograder tests\n",
    "assert \"first_3\" in locals()"
   ]
  },
  {
   "cell_type": "code",
   "execution_count": 13,
   "id": "c65fce77",
   "metadata": {},
   "outputs": [],
   "source": [
    "# autograder tests\n",
    "assert first_3.equals(df.iloc[:3]) or first_3.equals(light_penguins.iloc[:3])"
   ]
  },
  {
   "cell_type": "markdown",
   "id": "74a21c7b",
   "metadata": {},
   "source": [
    "## Question 5\n",
    "\n",
    "What is the minimum flipper length for all penguins living on Torgersen island?\n",
    "\n",
    "Assign the answer to a variable called `min_torgersen_flipper`.\n",
    "\n",
    "[1 point]"
   ]
  },
  {
   "cell_type": "code",
   "execution_count": 14,
   "id": "5cef34ae",
   "metadata": {},
   "outputs": [],
   "source": [
    "# solution\n",
    "min_torgersen_flipper = df[df.island == \"Torgersen\"].flipper_length_mm.min()"
   ]
  },
  {
   "cell_type": "code",
   "execution_count": 15,
   "id": "89c61f24",
   "metadata": {},
   "outputs": [],
   "source": [
    "# autograder tests\n",
    "assert \"min_torgersen_flipper\" in locals()"
   ]
  },
  {
   "cell_type": "code",
   "execution_count": 16,
   "id": "e219fd9b",
   "metadata": {},
   "outputs": [],
   "source": [
    "# autograder tests\n",
    "assert min_torgersen_flipper == 189.0"
   ]
  },
  {
   "cell_type": "markdown",
   "id": "03fc0c72",
   "metadata": {},
   "source": [
    "## Question 6\n",
    "\n",
    "Do penguins of the Adelie species have a mean flipper length that is longer or shorter than ones of the Chinstrap species?\n",
    "\n",
    "If they have longer mean flipper length, assign `True` to a variable called `adelie_longer`, otherwise assign `False` to it."
   ]
  },
  {
   "cell_type": "code",
   "execution_count": 17,
   "id": "1cffaa23",
   "metadata": {},
   "outputs": [],
   "source": [
    "# solution\n",
    "adelie_longer = df[df.species == \"Adelie\"].flipper_length_mm.mean() > df[df.species == \"Chinstrap\"].flipper_length_mm.mean()"
   ]
  },
  {
   "cell_type": "code",
   "execution_count": 18,
   "id": "c546b17d",
   "metadata": {},
   "outputs": [],
   "source": [
    "# autograder tests\n",
    "assert \"adelie_longer\" in locals()"
   ]
  },
  {
   "cell_type": "code",
   "execution_count": 19,
   "id": "2e1b8a44",
   "metadata": {},
   "outputs": [],
   "source": [
    "# autograder tests\n",
    "assert not adelie_longer"
   ]
  }
 ],
 "metadata": {
  "kernelspec": {
   "display_name": "Python 3 (ipykernel)",
   "language": "python",
   "name": "python3"
  },
  "language_info": {
   "codemirror_mode": {
    "name": "ipython",
    "version": 3
   },
   "file_extension": ".py",
   "mimetype": "text/x-python",
   "name": "python",
   "nbconvert_exporter": "python",
   "pygments_lexer": "ipython3",
   "version": "3.9.9"
  }
 },
 "nbformat": 4,
 "nbformat_minor": 5
}
