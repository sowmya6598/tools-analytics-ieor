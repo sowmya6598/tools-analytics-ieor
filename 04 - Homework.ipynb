{
 "cells": [
  {
   "cell_type": "markdown",
   "id": "e7e6f75f",
   "metadata": {},
   "source": [
    "# Homework 4: Object Oriented Programming"
   ]
  },
  {
   "cell_type": "markdown",
   "id": "7246d4e8",
   "metadata": {},
   "source": [
    "Questions 1 through 5 will have you practice some object oriented programming, by designing an **Address Book** for managing contact information.\n",
    "\n",
    "You will be asked to implement a number of new types, and some methods on them for implementing address book functionality you likely are already familiar with.\n",
    "\n",
    "When asked to modify an existing type in an exercise, you should completely redefine the type -- in other words, if you answered:\n",
    "\n",
    "```py\n",
    "class Something:\n",
    "    def __init__(self):\n",
    "        pass\n",
    "```\n",
    "\n",
    "for the first question, and are then asked to add a new `foo` attribute to `Something` instances in question 2, your answer to question 2 should be:\n",
    "\n",
    "```py\n",
    "class Something:\n",
    "    def __init__(self):\n",
    "        self.foo = 12\n",
    "```\n",
    "\n",
    "where you have completely redefined the Something class with the newly needed attribute."
   ]
  },
  {
   "cell_type": "markdown",
   "id": "26180761",
   "metadata": {},
   "source": [
    "## Question 1\n",
    "\n",
    "We first will start with a type which represents each **contact** we store in the address book.\n",
    "\n",
    "We'll want a contact to have a (full) name which is required, zero or more phone numbers, and zero or more email addresses for the contact.\n",
    "\n",
    "Here's an example of how someone will want to use our class:\n",
    "\n",
    "```py\n",
    "karina = Contact(\n",
    "    name=\"Karina Whitley\", \n",
    "    addresses=[], \n",
    "    email_addresses=[\"kwhitley@example.org\"]\n",
    ")\n",
    "```\n",
    "\n",
    "Write a `Contact` class supporting the above, which additionally re-exposes the `name`, `addresses`, and `email_addresses` arguments as public attributes. In other words, in the above example, `karina.name` should return `\"Karina Whitley\"`, the string that was passed in.\n",
    "\n",
    "Remember that both `addresses` and `email_addresses` support 0 or more addresses. To make providing 0 of these more convenient, your class should support leaving those parameters off, meaning:\n",
    "\n",
    "```py\n",
    "tayte = Contact(name=\"Tayte Whitaker\")\n",
    "```\n",
    "\n",
    "should create a contact whose `addresses` and `email_addresses` are set to a falsy value (any falsy value is acceptable).\n",
    "\n",
    "[2 points]"
   ]
  },
  {
   "cell_type": "code",
   "execution_count": 1,
   "id": "8aced373",
   "metadata": {},
   "outputs": [],
   "source": [
    "class Contact:\n",
    "    def __init__(self, name, addresses=None, email_addresses=None):\n",
    "        self.name = name\n",
    "        self.addresses = addresses\n",
    "        self.email_addresses = email_addresses"
   ]
  },
  {
   "cell_type": "code",
   "execution_count": 2,
   "id": "9cb1ffec",
   "metadata": {},
   "outputs": [],
   "source": [
    "# autograder tests\n",
    "karina = Contact(name=\"Karina Whitley\", addresses=[], email_addresses=[\"kwhitley@example.org\"])\n",
    "assert (karina.name, karina.addresses, karina.email_addresses) == (\n",
    "    \"Karina Whitley\",\n",
    "    [],\n",
    "    [\"kwhitley@example.org\"],\n",
    ")"
   ]
  },
  {
   "cell_type": "code",
   "execution_count": 3,
   "id": "79c3c844",
   "metadata": {},
   "outputs": [],
   "source": [
    "# autograder tests\n",
    "edwin = Contact(name=\"Edwin Alder\", addresses=[\"100 Park Avenue South\\nNew York, NY 10003\"], email_addresses=[\"ealder@example.org\"])\n",
    "assert (edwin.name, edwin.addresses, edwin.email_addresses) == (\n",
    "    \"Edwin Alder\",\n",
    "    [\"100 Park Avenue South\\nNew York, NY 10003\"],\n",
    "    [\"ealder@example.org\"],\n",
    ")"
   ]
  },
  {
   "cell_type": "code",
   "execution_count": 4,
   "id": "62c34abb",
   "metadata": {},
   "outputs": [],
   "source": [
    "# autograder tests\n",
    "tae = Contact(name=\"Tae Danae Ruby\")\n",
    "assert tae.name == \"Tae Danae Ruby\"\n",
    "assert not tae.addresses\n",
    "assert not tae.email_addresses"
   ]
  },
  {
   "cell_type": "code",
   "execution_count": 5,
   "id": "f66c2b4b",
   "metadata": {},
   "outputs": [],
   "source": [
    "# autograder tests\n",
    "christine = Contact(name=\"Christine Robins\", email_addresses=[\"crobins@example.com\", \"crobins@example.edu\"])\n",
    "assert christine.name == \"Christine Robins\"\n",
    "assert not christine.addresses\n",
    "assert christine.email_addresses == [\"crobins@example.com\", \"crobins@example.edu\"]"
   ]
  },
  {
   "cell_type": "markdown",
   "id": "2eb39f0e",
   "metadata": {},
   "source": [
    "## Question 2\n",
    "\n",
    "Now that we have a type which represents an individual contact (person), we want a type which represents our address book which will contain lots of contacts.\n",
    "\n",
    "Write an `AddressBook` class which takes a list of contacts (defined as above), and can be used as such:\n",
    "\n",
    "```py\n",
    "lynn = Contact(name=\"Lynn Root\")\n",
    "book = AddressBook(contacts=[lynn])\n",
    "```\n",
    "\n",
    "Give your address book class a _method_ called `add_contact` which can add a contact to the address book even after creating one.\n",
    "\n",
    "In other words:\n",
    "\n",
    "```py\n",
    "sai = Contact(\n",
    "    name=\"Sai Lee\", \n",
    "    email_addresses=[\"sai@example.com\"]\n",
    ")\n",
    "book.add_contact(sai)\n",
    "```\n",
    "which should add the new contact to the address book.\n",
    "\n",
    "[2 points]"
   ]
  },
  {
   "cell_type": "code",
   "execution_count": 6,
   "id": "3af4b8f5",
   "metadata": {},
   "outputs": [],
   "source": [
    "class AddressBook:\n",
    "    def __init__(self, contacts):\n",
    "        self._contacts = contacts\n",
    "        \n",
    "    def add_contact(self, contact):\n",
    "        self._contacts.append(contact)"
   ]
  },
  {
   "cell_type": "code",
   "execution_count": 7,
   "id": "fceee6ad",
   "metadata": {},
   "outputs": [],
   "source": [
    "# autograder tests\n",
    "lynn = Contact(name=\"Lynn Root\")\n",
    "book = AddressBook(contacts=[lynn])\n",
    "book.add_contact(\n",
    "    Contact(name=\"Sai Lee\", email_addresses=[\"sai@example.com\"])\n",
    ")"
   ]
  },
  {
   "cell_type": "code",
   "execution_count": 8,
   "id": "bf61817c",
   "metadata": {},
   "outputs": [],
   "source": [
    "# autograder tests\n",
    "book = AddressBook(contacts=[])\n",
    "book.add_contact(lynn)"
   ]
  },
  {
   "cell_type": "markdown",
   "id": "6d5a006a",
   "metadata": {},
   "source": [
    "## Question 3\n",
    "\n",
    "Our address book can have contacts added to it, but we have no way of looking up their information.\n",
    "\n",
    "Let's add one.\n",
    "\n",
    "Redefine the `AddressBook` class such that it also has a `contact_by_name` method which takes a name (a `str`) and returns the contact with the given name -- i.e. it returns an instance of `Contact`.\n",
    "\n",
    "You can assume that all names are unique, so no two contacts will have the same exact name for this exercise.\n",
    "\n",
    "Implement `contact_by_name` method so that you only have to provide the string of the contact's name and not a `Contact` instance.\n",
    "\n",
    "[2 points]"
   ]
  },
  {
   "cell_type": "code",
   "execution_count": 9,
   "id": "9c592bcc",
   "metadata": {},
   "outputs": [],
   "source": [
    "class AddressBook:\n",
    "    def __init__(self, contacts):\n",
    "        self._contacts = {contact.name: contact for contact in contacts}\n",
    "        \n",
    "    def add_contact(self, contact):\n",
    "        self._contacts[contact.name] = contact\n",
    "        \n",
    "    def contact_by_name(self, name):\n",
    "        return self._contacts[name]"
   ]
  },
  {
   "cell_type": "code",
   "execution_count": 10,
   "id": "c8000c44",
   "metadata": {},
   "outputs": [],
   "source": [
    "# autograder tests\n",
    "lynn = Contact(name=\"Lynn Root\")\n",
    "book = AddressBook(contacts=[lynn])\n",
    "assert book.contact_by_name(\"Lynn Root\") == lynn"
   ]
  },
  {
   "cell_type": "code",
   "execution_count": 11,
   "id": "fde3d964",
   "metadata": {},
   "outputs": [],
   "source": [
    "# autograder tests\n",
    "sai = Contact(name=\"Sai Lee\", email_addresses=[\"sai@example.com\"])\n",
    "book.add_contact(sai)\n",
    "assert book.contact_by_name(\"Lynn Root\") == lynn\n",
    "assert book.contact_by_name(\"Sai Lee\") == sai"
   ]
  },
  {
   "cell_type": "markdown",
   "id": "d91a6172",
   "metadata": {},
   "source": [
    "## Question 4\n",
    "\n",
    "We can now both add contacts to the address book as well as look them up.\n",
    "\n",
    "But we want to be able to signal that a contact doesn't exist if we attempt to look up one by name that is not present in the address book.\n",
    "\n",
    "Define an exception called `NoSuchContact`, and raise this exception in `contact_by_name` if it is called with a name that does not match any contact. You should include the name of the (non-existing) contact in the exception message for `NoSuchContact`. \n",
    "\n",
    "Don't forget, you'll have to re-define the `AddressBook` class in order to contain this new logic.\n",
    "\n",
    "[2 points]"
   ]
  },
  {
   "cell_type": "code",
   "execution_count": 12,
   "id": "12a237e3",
   "metadata": {},
   "outputs": [],
   "source": [
    "class NoSuchContact(Exception):\n",
    "    pass\n",
    "\n",
    "\n",
    "class AddressBook:\n",
    "    def __init__(self, contacts):\n",
    "        self._contacts = {contact.name: contact for contact in contacts}\n",
    "        \n",
    "    def add_contact(self, contact):\n",
    "        self._contacts[contact.name] = contact\n",
    "        \n",
    "    def contact_by_name(self, name):\n",
    "        if name not in self._contacts:\n",
    "            raise NoSuchContact(name)\n",
    "        return self._contacts[name]"
   ]
  },
  {
   "cell_type": "code",
   "execution_count": 13,
   "id": "8bd1cbc2",
   "metadata": {},
   "outputs": [],
   "source": [
    "# autograder tests\n",
    "lynn = Contact(name=\"Lynn Root\")\n",
    "book = AddressBook(contacts=[lynn])\n",
    "assert book.contact_by_name(\"Lynn Root\") == lynn\n",
    "try:\n",
    "    book.contact_by_name(\"Unknown Contact\")\n",
    "except NoSuchContact:\n",
    "    pass\n",
    "else:\n",
    "    assert False, \"Expected an exception!\""
   ]
  },
  {
   "cell_type": "code",
   "execution_count": 14,
   "id": "a722b9be",
   "metadata": {},
   "outputs": [],
   "source": [
    "# autograder tests\n",
    "lynn = Contact(name=\"Lynn Root\")\n",
    "book = AddressBook(contacts=[lynn])\n",
    "assert book.contact_by_name(\"Lynn Root\") == lynn\n",
    "try:\n",
    "    book.contact_by_name(\"Unknown Contact\")\n",
    "except NoSuchContact as e:\n",
    "    assert \"Unknown Contact\" in str(e)\n",
    "else:\n",
    "    assert False, \"Expected an exception!\""
   ]
  },
  {
   "cell_type": "code",
   "execution_count": 15,
   "id": "3372cc52",
   "metadata": {},
   "outputs": [],
   "source": [
    "# autograder tests\n",
    "try:\n",
    "    book.contact_by_name(\"Another Unknown Contact\")\n",
    "except NoSuchContact as e:\n",
    "    assert \"Another Unknown Contact\" in str(e)\n",
    "else:\n",
    "    assert False, \"Expected an exception!\""
   ]
  },
  {
   "cell_type": "markdown",
   "id": "e8110c1c",
   "metadata": {},
   "source": [
    "## Question 5\n",
    "\n",
    "Write an implementation of the `__repr__` special method which for a `Contact` shows the name of the contact.\n",
    "\n",
    "For a contact named `\"Sara Loggins\"`, we want to see `\"Contact(name=\"'Sara Loggins')\"`. You should not include any other contact fields in the output. Be sure that your repr output exactly matches the example shown!\n",
    "\n",
    "[1 point]"
   ]
  },
  {
   "cell_type": "code",
   "execution_count": 16,
   "id": "af8deb9b",
   "metadata": {},
   "outputs": [],
   "source": [
    "class Contact:\n",
    "    def __init__(self, name, addresses=None, email_addresses=None):\n",
    "        self.name = name\n",
    "        self.addresses = addresses\n",
    "        self.email_addresses = email_addresses\n",
    "        \n",
    "    def __repr__(self):\n",
    "        return f\"Contact(name={repr(self.name)})\""
   ]
  },
  {
   "cell_type": "code",
   "execution_count": 17,
   "id": "5350d268",
   "metadata": {},
   "outputs": [],
   "source": [
    "# autograder tests\n",
    "assert repr(Contact(name=\"Gandalf Hernandez\")) == \"Contact(name='Gandalf Hernandez')\""
   ]
  },
  {
   "cell_type": "code",
   "execution_count": 18,
   "id": "5e8a8bc5",
   "metadata": {},
   "outputs": [],
   "source": [
    "# autograder tests\n",
    "assert repr(Contact(name=\"Lynn Root\")) == \"Contact(name='Lynn Root')\""
   ]
  },
  {
   "cell_type": "markdown",
   "id": "643f1d0a",
   "metadata": {},
   "source": [
    "## Question 6\n",
    "\n",
    "Create a class `Str` that subclasses `str`. Add a method to the subclass that checks if the string does not start with a given string. Call that method `notstartswith`. This class should only take up 3 lines of code however you will not be graded on the length of your class.\n",
    "\n",
    "[1 point]"
   ]
  },
  {
   "cell_type": "code",
   "execution_count": 1,
   "id": "db55638d",
   "metadata": {},
   "outputs": [],
   "source": [
    "class Str(str):\n",
    "    def notstartswith(self, s):\n",
    "        return not self.startswith(s)"
   ]
  },
  {
   "cell_type": "code",
   "execution_count": 2,
   "id": "f24014f1",
   "metadata": {},
   "outputs": [],
   "source": [
    "# autograder tests\n",
    "what_does_the_dog_say = \"woof\"\n",
    "word = Str(what_does_the_dog_say)\n",
    "\n",
    "assert word.notstartswith(\"w\") is False"
   ]
  },
  {
   "cell_type": "code",
   "execution_count": 3,
   "id": "190092cd",
   "metadata": {},
   "outputs": [],
   "source": [
    "# autograder tests\n",
    "assert issubclass(Str, str)"
   ]
  },
  {
   "cell_type": "code",
   "execution_count": 21,
   "id": "ad33f0e0",
   "metadata": {},
   "outputs": [],
   "source": [
    "# autograder tests\n",
    "assert Str(\"This string does not ...\").notstartswith(\"Hi\")\n",
    "assert not Str(\"This string does not ...\").notstartswith(\"This\")"
   ]
  }
 ],
 "metadata": {
  "kernelspec": {
   "display_name": "Python 3 (ipykernel)",
   "language": "python",
   "name": "python3"
  },
  "language_info": {
   "codemirror_mode": {
    "name": "ipython",
    "version": 3
   },
   "file_extension": ".py",
   "mimetype": "text/x-python",
   "name": "python",
   "nbconvert_exporter": "python",
   "pygments_lexer": "ipython3",
   "version": "3.9.9"
  }
 },
 "nbformat": 4,
 "nbformat_minor": 5
}
