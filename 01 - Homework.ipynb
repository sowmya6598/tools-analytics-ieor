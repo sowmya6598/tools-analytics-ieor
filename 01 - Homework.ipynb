{
 "cells": [
  {
   "cell_type": "markdown",
   "id": "02cd33de",
   "metadata": {},
   "source": [
    "# Homework 1: Fundamentals"
   ]
  },
  {
   "cell_type": "markdown",
   "id": "37e1f570",
   "metadata": {},
   "source": [
    "### Question 1\n",
    "The `any` and `all` functions in Python's built-in functions can be used to test the truthiness of a sequence of objects all at once. Read the docstrings of the two functions in the [official documentation](https://docs.python.org/3/library/functions.html#all). Then, implement the function `at_least_5_truthy_objects` that returns a `list` of at least 5 objects such that `all(the_list)` will return `True`.\n",
    "\n",
    "[1 point\\]"
   ]
  },
  {
   "cell_type": "code",
   "execution_count": null,
   "id": "b8c5fd38",
   "metadata": {},
   "outputs": [],
   "source": [
    "def at_least_5_truthy_objects():\n",
    "    # There are many answers, this is one:\n",
    "    return [1, 2, 3, 4, 5]"
   ]
  },
  {
   "cell_type": "code",
   "execution_count": null,
   "id": "71919696",
   "metadata": {},
   "outputs": [],
   "source": [
    "# Autograder tests\n",
    "result = at_least_5_truthy_objects()\n",
    "\n",
    "# Ensure the result returned is a list\n",
    "assert isinstance(result, list)\n",
    "\n",
    "# Ensure that at least 5 elements are in the list result\n",
    "assert len(result) >= 5\n",
    "\n",
    "# Ensure that all elements in the list evaluate to `True`\n",
    "assert all(result) is True"
   ]
  },
  {
   "cell_type": "markdown",
   "id": "dcbaa47d",
   "metadata": {},
   "source": [
    "### Question 2 \n",
    "Implement the function `escape_sequences` that returns a container with two strings: one string the escape sequence for tabs, and one string for the escape sequence for newlines.\n",
    "\n",
    "[1 point\\]"
   ]
  },
  {
   "cell_type": "code",
   "execution_count": null,
   "id": "752d91a2",
   "metadata": {},
   "outputs": [],
   "source": [
    "def escape_sequences():\n",
    "    # Other return types (e.g. tuple, sets), are accepted\n",
    "    # Order doesn't matter\n",
    "    return [\"\\n\", \"\\t\"]"
   ]
  },
  {
   "cell_type": "code",
   "execution_count": null,
   "id": "83bd5515",
   "metadata": {},
   "outputs": [],
   "source": [
    "# Autograder tests\n",
    "assert set(escape_sequences()) == {\"\\n\", \"\\t\"}"
   ]
  },
  {
   "cell_type": "markdown",
   "id": "38cc7bd6",
   "metadata": {},
   "source": [
    "### Question 3\n",
    "Imagine a function named `mod_2_of_first_11_numbers` which computes, for each number between 0 and 10 inclusive, a list of the numbers modulo 2. (Recall that here we mean the remainder of the number when divided by 2).\n",
    "\n",
    "The result of this first function should be the sequence: `[0, 1, 0, 1, 0, 1, 0, 1, 0, 1, 0]`.\n",
    "\n",
    "Generalize this by writing a function named `mod_n_of_first_11_numbers`, which takes as input a number `n` and returns a `list` containing `x mod n` for each `x` from 0 to 10 inclusive as above.\n",
    "\n",
    "For this question, it may be worthwhile to familiarize yourself with [list types](https://docs.python.org/3/library/stdtypes.html#typesseq-list) in Python, as well as the [operations](https://docs.python.org/3/library/stdtypes.html#mutable-sequence-types) you can do on `list`s.\n",
    "\n",
    "[1 point\\]"
   ]
  },
  {
   "cell_type": "code",
   "execution_count": null,
   "id": "b551a767",
   "metadata": {},
   "outputs": [],
   "source": [
    "def mod_n_of_first_11_numbers(n):\n",
    "    # The below uses a loop, which we covered in week 3 and is how this would\n",
    "    # typically be done, but a loopless solution was possible as well.\n",
    "    # It would involve writing out by hand:\n",
    "    #  [0 % n, 1 % n, 2 % n, 3 % n, ...]\n",
    "    result = []\n",
    "    for x in range(11):\n",
    "        result.append(x % n)\n",
    "    return result"
   ]
  },
  {
   "cell_type": "code",
   "execution_count": null,
   "id": "4345f7b2",
   "metadata": {},
   "outputs": [],
   "source": [
    "# Autograder tests\n",
    "# Ensure the function returns the expected result as detailed in the prompt.\n",
    "assert mod_n_of_first_11_numbers(2) == [0, 1, 0, 1, 0, 1, 0, 1, 0, 1, 0]"
   ]
  },
  {
   "cell_type": "code",
   "execution_count": null,
   "id": "112f8492",
   "metadata": {},
   "outputs": [],
   "source": [
    "# Autograder tests\n",
    "assert mod_n_of_first_11_numbers(5) == [0, 1, 2, 3, 4, 0, 1, 2, 3, 4, 0]\n",
    "assert mod_n_of_first_11_numbers(3) == [0, 1, 2, 0, 1, 2, 0, 1, 2, 0, 1]\n",
    "assert mod_n_of_first_11_numbers(7) == [0, 1, 2, 3, 4, 5, 6, 0, 1, 2, 3]"
   ]
  },
  {
   "cell_type": "markdown",
   "id": "43b36977",
   "metadata": {},
   "source": [
    "### Question 4\n",
    "Being able to read and understand error messages is an incredibly important skill.\n",
    "\n",
    "Get Python to emit at least 2 distinct error messages. For each, share the code which generates the error message, and explain (in a short comment alongside it) how you interpret the error message -- what is it trying to explain about the broken code?\n",
    "\n",
    "You may write a single line, or a function, or anything you can think of – so long as each solution produces a different error message. \n",
    "\n",
    "An example:\n",
    "\n",
    "```py\n",
    "# raises a SyntaxError because Python doesn't recognize all caps for the `def` keyword:\n",
    "DEF foo():\n",
    "    print('bar')\n",
    "```\n",
    "\n",
    "_Note: `SyntaxError` may be 1 of the 2 distinct error messages raised in your solutions._\n",
    "\n",
    "[1 point\\]"
   ]
  },
  {
   "cell_type": "code",
   "execution_count": null,
   "id": "62d34328",
   "metadata": {},
   "outputs": [],
   "source": [
    "# Many solutions are acceptable for this question.\n",
    "# Here are a couple examples"
   ]
  },
  {
   "cell_type": "code",
   "execution_count": null,
   "id": "2a958436",
   "metadata": {},
   "outputs": [],
   "source": [
    "# raises NameError because `asdf` is not defined.\n",
    "asdf"
   ]
  },
  {
   "cell_type": "code",
   "execution_count": null,
   "id": "148cc59e",
   "metadata": {},
   "outputs": [],
   "source": [
    "# Raises SyntaxError because it's missing a closing single quote\n",
    "'8923"
   ]
  },
  {
   "cell_type": "code",
   "execution_count": null,
   "id": "891bff3c",
   "metadata": {},
   "outputs": [],
   "source": [
    "# Accessing an attribute of strings that does not exist:\n",
    "\n",
    "\"foo\".bar"
   ]
  },
  {
   "cell_type": "markdown",
   "id": "cc0f1630",
   "metadata": {},
   "source": [
    "### Question 5\n",
    "\n",
    "Read \"PEP 8\" and \"PEP 257\" (you may need to do some Googling to find these).\n",
    "\n",
    "Write a function named `recommendations` that returns a `tuple` object containing two elements. Both elements in the tuple should be integers. The first element in the `tuple` should be the recommended indentation level (when using spaces) within Python. The second element should be the recommended number of quotes to use when creating a docstring (not the total quotes, only the quotes needed to start a docstring).\n",
    "\n",
    "[1 point]"
   ]
  },
  {
   "cell_type": "code",
   "execution_count": null,
   "id": "7c1c021f",
   "metadata": {},
   "outputs": [],
   "source": [
    "# Python \"PEPs\" are proposals among the developers for new features and ideas to \n",
    "# add to the language. PEP 8 and PEP 257 are widely popular ones. PEP 8 is an\n",
    "# accepted proposal on how to write Python code, aka a \"style guide\".\n",
    "# PEP 257 is another accepted proposal that specifies a style guide specifically\n",
    "# for docstrings.\n",
    "\n",
    "def recommendations():\n",
    "    return (4, 3)"
   ]
  },
  {
   "cell_type": "code",
   "execution_count": null,
   "id": "b3dbfec7",
   "metadata": {},
   "outputs": [],
   "source": [
    "# Autograder tests\n",
    "result = recommendations()\n",
    "\n",
    "# Ensure that a tuple is returned\n",
    "assert isinstance(result, tuple)\n",
    "\n",
    "# Ensure that two elements are returned\n",
    "assert len(result) == 2"
   ]
  },
  {
   "cell_type": "code",
   "execution_count": null,
   "id": "ced34528",
   "metadata": {},
   "outputs": [],
   "source": [
    "# Autograder tests\n",
    "assert recommendations() == (4, 3)"
   ]
  },
  {
   "cell_type": "markdown",
   "id": "f2e9fafd",
   "metadata": {},
   "source": [
    "### Question 6\n",
    "\n",
    "Create a function `print_me` that prints your favorite word to the screen 10,000 times. I suggest you don't actually _execute_ this function yourself - otherwise you'll see a lot of your favorite word.\n",
    "\n",
    "The function can use one built-in function, one string, one integer, and one binary operation. The function does not need to return anything.\n",
    "\n",
    "[1 point]"
   ]
  },
  {
   "cell_type": "code",
   "execution_count": null,
   "id": "65ed689f",
   "metadata": {},
   "outputs": [],
   "source": [
    "# The solution can use any string. This is an example.\n",
    "def print_me():\n",
    "    print(\"hi\" * 10000)"
   ]
  },
  {
   "cell_type": "code",
   "execution_count": null,
   "id": "68163b28",
   "metadata": {},
   "outputs": [],
   "source": [
    "# Autograder tests\n",
    "# Using `__code__` of the function to avoid executing the function.\n",
    "\n",
    "# Ensure that `print_me` has '10000' declared in constants\n",
    "assert 10000 in print_me.__code__.co_consts\n",
    "# Ensure that the `print` function is called\n",
    "assert print_me.__code__.co_names == (\"print\",)"
   ]
  },
  {
   "cell_type": "markdown",
   "id": "3c5f54ad",
   "metadata": {},
   "source": [
    "### Question 7\n",
    "\n",
    "Implement the function called `flip_it` that takes in two arguments, `a` and `b`. In the function, swap the values for `a` and `b`. Then have the function return `tuple(a, b)`.\n",
    "\n",
    "You may _not_ do the following:\n",
    "\n",
    "```py\n",
    "def flip_it(a, b):\n",
    "    return b, a\n",
    "```\n",
    "\n",
    "You must figure out how to swap values by assignment.\n",
    "\n",
    "[1 point]"
   ]
  },
  {
   "cell_type": "code",
   "execution_count": null,
   "id": "b21bdc27",
   "metadata": {},
   "outputs": [],
   "source": [
    "def flip_it(a, b):\n",
    "    a, b = b, a\n",
    "    return (a, b)"
   ]
  },
  {
   "cell_type": "code",
   "execution_count": null,
   "id": "896d9457",
   "metadata": {},
   "outputs": [],
   "source": [
    "# Autograder tests\n",
    "assert (1, 2) == flip_it(2, 1)\n",
    "assert (\"a\", \"b\") == flip_it(\"b\", \"a\")\n",
    "\n",
    "# Ensure that the implementation doesn't simply swap the arguments\n",
    "import inspect\n",
    "wrong = \"def flip_it(a, b):\\n    return (b, a)\\n\"\n",
    "assert inspect.getsource(flip_it) != wrong"
   ]
  },
  {
   "cell_type": "markdown",
   "id": "4eb1eddb",
   "metadata": {},
   "source": [
    "### Question 8\n",
    "\n",
    "Create a function `convert` that takes a bytestring (like the one given) and decodes it into a regular Python string. Convert this bytesting via the UTF-8 encoding.\n",
    "\n",
    "    b'\\xf0\\x9f\\x8d\\xa9 + \\xf0\\x9f\\x8d\\xb5'\n",
    "\n",
    "[1 point]"
   ]
  },
  {
   "cell_type": "code",
   "execution_count": null,
   "id": "dc10fbc4",
   "metadata": {},
   "outputs": [],
   "source": [
    "def convert(bytestring):\n",
    "    return bytestring.decode(\"utf-8\")"
   ]
  },
  {
   "cell_type": "code",
   "execution_count": null,
   "id": "09647c05",
   "metadata": {},
   "outputs": [],
   "source": [
    "# Autograder tests\n",
    "input_bytestring = b'\\xf0\\x9f\\x8d\\xa9 + \\xf0\\x9f\\x8d\\xb5'\n",
    "\n",
    "# Ensure bytestring returns a string of a donut and coffee emoji\n",
    "assert convert(input_bytestring) == '🍩 + 🍵'"
   ]
  },
  {
   "cell_type": "code",
   "execution_count": null,
   "id": "5cab939b",
   "metadata": {},
   "outputs": [],
   "source": [
    "# Autograder tests\n",
    "# Ensure that the correct decode string, utf-8, is selected\n",
    "try:\n",
    "    convert(b'\\xfd')\n",
    "    assert False, 'Should not be able to decode latin1'\n",
    "except UnicodeDecodeError:\n",
    "    pass"
   ]
  },
  {
   "cell_type": "markdown",
   "id": "d12dc338",
   "metadata": {},
   "source": [
    "### Question 9\n",
    "\n",
    "**Multiple choice**\n",
    "\n",
    "What is `pip`? You may need to do some Googling to figure this out.\n",
    "\n",
    "* `1`: `pip` is used to install and manage software packages for Python.\n",
    "* `2`: `pip` is the compiler that Python uses.\n",
    "* `3`: `pip` is where Python packages are downloaded from.\n",
    "\n",
    "Write a function `what_is_pip` that returns your answer as an integer of either `1`, `2`, or `3`.\n",
    "\n",
    "[1 point\\]"
   ]
  },
  {
   "cell_type": "code",
   "execution_count": null,
   "id": "fb0530aa",
   "metadata": {},
   "outputs": [],
   "source": [
    "def what_is_pip():\n",
    "    return 1"
   ]
  },
  {
   "cell_type": "code",
   "execution_count": null,
   "id": "cfaf098d",
   "metadata": {},
   "outputs": [],
   "source": [
    "# Autograder tests\n",
    "answer = what_is_pip()\n",
    "# Ensure the answer is one of the possible solutions.\n",
    "assert answer in (1, 2, 3)"
   ]
  },
  {
   "cell_type": "code",
   "execution_count": null,
   "id": "0a533f4a",
   "metadata": {},
   "outputs": [],
   "source": [
    "# Autograder tests\n",
    "assert 1 == what_is_pip()"
   ]
  },
  {
   "cell_type": "markdown",
   "id": "303fbe5f",
   "metadata": {},
   "source": [
    "### Question 10\n",
    "\n",
    "Another important skill is being able to read the provided documentation of a language. \n",
    "\n",
    "Recall that Python has many [built-in functions](https://docs.python.org/3/library/functions.html). \n",
    "\n",
    "Correctly call 4 different built-in Python functions. For each, in a short comment alongside it, briefly describe what the built-in function does in your own words. Do _not_ copy the description in the Python documentation.\n",
    "\n",
    "An example of an expected answer:\n",
    "\n",
    "```py\n",
    "abs(-5) # calculates the absolute value of a given number\n",
    "```\n",
    "\n",
    "You may **not** choose `print`, `input`, `type`, `help`, `any`, `all`, or `abs`.\n",
    "\n",
    "[1 point\\]"
   ]
  },
  {
   "cell_type": "code",
   "execution_count": null,
   "id": "52e3475b",
   "metadata": {},
   "outputs": [],
   "source": [
    "# Many solutions are acceptable for this question.\n",
    "# Here are a couple examples"
   ]
  },
  {
   "cell_type": "code",
   "execution_count": null,
   "id": "6208619f",
   "metadata": {},
   "outputs": [],
   "source": [
    "# Convert a given integer to a binary number\n",
    "bin(3)"
   ]
  },
  {
   "cell_type": "code",
   "execution_count": null,
   "id": "ae99911e",
   "metadata": {},
   "outputs": [],
   "source": [
    "# Get the length of a given sequence\n",
    "len(\"foo\")"
   ]
  },
  {
   "cell_type": "code",
   "execution_count": null,
   "id": "0fcdf5aa",
   "metadata": {},
   "outputs": [],
   "source": [
    "# Generate a string from a given object\n",
    "str(3)"
   ]
  },
  {
   "cell_type": "code",
   "execution_count": null,
   "id": "58d3d6e3",
   "metadata": {},
   "outputs": [],
   "source": [
    "# Generate a float from a given number\n",
    "float(5)"
   ]
  }
 ],
 "metadata": {
  "kernelspec": {
   "display_name": "Python 3 (ipykernel)",
   "language": "python",
   "name": "python3"
  },
  "language_info": {
   "codemirror_mode": {
    "name": "ipython",
    "version": 3
   },
   "file_extension": ".py",
   "mimetype": "text/x-python",
   "name": "python",
   "nbconvert_exporter": "python",
   "pygments_lexer": "ipython3",
   "version": "3.10.1"
  }
 },
 "nbformat": 4,
 "nbformat_minor": 5
}
