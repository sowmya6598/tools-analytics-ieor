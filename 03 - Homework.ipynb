{
 "cells": [
  {
   "cell_type": "markdown",
   "id": "6901bec8",
   "metadata": {},
   "source": [
    "# Homework 3: List Comprehensions, Exceptions, File I/O, and Recursion"
   ]
  },
  {
   "cell_type": "markdown",
   "id": "d6b73fcb",
   "metadata": {},
   "source": [
    "## Question 1\n",
    "Write a function called `scalar_multiply` which takes 2 arguments -- an `int` and a sequence (e.g. a `list`) of `int`s, of any length.\n",
    "\n",
    "The function should return a new `list` where each element in the sequence has been multiplied by the `int`.\n",
    "\n",
    "The function should raise a `ValueError` if the sequence given is empty, with any message provided.\n",
    "\n",
    "The function should otherwise always return a `list`, even if the provided sequence is not a list.\n",
    "\n",
    "Do not use a `for`-loop or a `while`-loop, you must use a list comprehension. **No points will be awarded if `for`-/`while`-loops are used.**\n",
    "\n",
    "As an example, `scalar_multiply(3, [2, 4, 5])` should return the list` [6, 12, 15]`, where each element has been multiplied by `3`.\n",
    "\n",
    "Calling `scalar_multiply(11, [])` should raise a `ValueError`.\n",
    "\n",
    "[2 points]"
   ]
  },
  {
   "cell_type": "code",
   "execution_count": 1,
   "id": "493ae509",
   "metadata": {},
   "outputs": [],
   "source": [
    "def scalar_multiply(scalar, sequence):\n",
    "    if not sequence:\n",
    "        raise ValueError(\"The sequence is empty!\")\n",
    "    return [scalar * element for element in sequence]"
   ]
  },
  {
   "cell_type": "code",
   "execution_count": 2,
   "id": "44ef93fc",
   "metadata": {},
   "outputs": [],
   "source": [
    "assert scalar_multiply(3, [2, 4, 5]) == [6, 12, 15]"
   ]
  },
  {
   "cell_type": "code",
   "execution_count": 3,
   "id": "c4155361",
   "metadata": {},
   "outputs": [],
   "source": [
    "# autograder tests\n",
    "try:\n",
    "    scalar_multiply(2, [])\n",
    "except ValueError:\n",
    "    pass\n",
    "else:\n",
    "    raise ValueError(\"Should have failed!\")\n",
    "\n",
    "# test to see if a list comprehension was used\n",
    "import ast, inspect\n",
    "\n",
    "uses_list_comp = False\n",
    "func = ast.parse(inspect.getsource(scalar_multiply))\n",
    "for node in ast.walk(func):\n",
    "    if type(node) == ast.ListComp:\n",
    "        uses_list_comp = True\n",
    "\n",
    "assert uses_list_comp, \"No list comprehension used\""
   ]
  },
  {
   "cell_type": "markdown",
   "id": "655f7ec6",
   "metadata": {},
   "source": [
    "## Question 2\n",
    "\n",
    "_Preamble: In class, we worked with text files and learned how to read and write files. Be sure to review the lecture notes. When working with numerical data, you will often encounter data in the form of [CSV files](https://en.wikipedia.org/wiki/Comma-separated_values). Take a moment to familiarize yourself with the [`csv` module](https://docs.python.org/3/library/csv.html) from Python's standard library, which provides an easy way to read & write CSV-based data._\n",
    "\n",
    "Below is a function called `download_park_data` that downloads data from New York State about State Park annual attendence since 2003, and returns it as a string. You can take a look at the data directly through their [website](https://data.ny.gov/Recreation/State-Park-Annual-Attendance-Figures-by-Facility-B/8f3n-xj78/data).\n",
    "\n",
    "Implement a function called `get_palisades_attendance` that does not take in any arguments. This function should do the following:\n",
    "\n",
    "1. **Get data**: Call the `download_park_data` function.\n",
    "2. **Write data to file**: Save the data that the `download_park_data` function returns by writing it to a file on your computer with a context manager. Name the written file `\"downloaded_data.csv\"`. It should not be saved in any particular directory. That is, use `open(\"downloaded_data.csv\", \"w\")` with no file path. You do not need to use the `csv` module here.\n",
    "3. **Read the file**: Then, use another context manager to read the lines of the file you just saved. You should be left with a `list` of `str`s.  You do not need to use the `csv` module here.\n",
    "4. **Parse the file**: After you've read the lines of the file, use the `csv` module to parse the lines of data into a single `list` containing multiple of `list`s that represents rows of data.\n",
    "5. **Calculate result**: Calculate the total attendance (`total_attendance`) from 2003 to 2020 (inclusive) for the `\"Appalachian Trail\"` in the `\"Palisades\"` OPRHP region. Return the value. The total attendence should be 156,506 people.\n",
    "\n",
    "Remember, you may **not** use additional imports for your implementation (you can import what you want in order to test your implementation though, if you wish).\n",
    "\n",
    "[2 points]"
   ]
  },
  {
   "cell_type": "code",
   "execution_count": 4,
   "id": "d2332594",
   "metadata": {},
   "outputs": [],
   "source": [
    "import csv\n",
    "import requests\n",
    "\n",
    "def download_park_data():\n",
    "    response = requests.get(\n",
    "        \"https://data.ny.gov/api/views/8f3n-xj78/rows.csv?accessType=DOWNLOAD&sorting=true\"\n",
    "    )\n",
    "    data = response.text\n",
    "    return data\n",
    "\n",
    "\n",
    "def get_palisades_attendance():\n",
    "    data = download_park_data()\n",
    "    with open(\"downloaded_data.csv\", \"w\") as f:\n",
    "        f.write(data)\n",
    "    with open(\"downloaded_data.csv\") as f:\n",
    "        file_data = f.readlines()\n",
    "        reader = csv.reader(file_data, delimiter=\",\")\n",
    "    \n",
    "    rows = [r for r in reader]\n",
    "    total_attendance = 0\n",
    "    for row in rows[1:]:  # skip the first row of Headers\n",
    "        if (\n",
    "            2003 <= int(row[0]) <= 2020 \n",
    "            and row[1] == \"Palisades\" \n",
    "            and row[3] == \"Appalachian Trail\"\n",
    "        ):\n",
    "            total_attendance += int(row[4])\n",
    "    return total_attendance\n"
   ]
  },
  {
   "cell_type": "code",
   "execution_count": 5,
   "id": "00a7779a",
   "metadata": {},
   "outputs": [],
   "source": [
    "# autograder tests\n",
    "# delete any downloaded csv data before starting for a clean slate\n",
    "from pathlib import Path\n",
    "f = Path(\"downloaded_data1.csv\")\n",
    "try:\n",
    "    f.unlink()  # deletes\n",
    "except Exception as e:\n",
    "    if isinstance(e, FileNotFoundError):\n",
    "        pass\n",
    "    else:\n",
    "        print(\"Couldn't delete old file - may be left in an unclean state.\")\n",
    "\n",
    "assert 156506 == get_palisades_attendance()"
   ]
  },
  {
   "cell_type": "code",
   "execution_count": 6,
   "id": "7c6bad50",
   "metadata": {},
   "outputs": [],
   "source": [
    "# ensure a context manager has been used\n",
    "has_context_manager = False\n",
    "func = ast.parse(inspect.getsource(get_palisades_attendance))\n",
    "for node in ast.walk(func):\n",
    "    if type(node) == ast.With:\n",
    "        has_context_manager = True\n",
    "\n",
    "assert has_context_manager"
   ]
  },
  {
   "cell_type": "markdown",
   "id": "186e19d1",
   "metadata": {},
   "source": [
    "## Question 3\n",
    "\n",
    "Write a recursive function `sum_list` to find the sum of all elements in a list. You can assume the list is flat. You **can not** use the built-in function `sum()`. You **can not** use iteration via a `for` or `while` loop. Your function must return an integer. You can assume you are passed a list of real integers. If your solution uses exceptions, the except statements must not be bare (i.e. the must specify the errors they can catch). You must handle the case where the given list is empty; the sum would be zero in this case.\n",
    "\n",
    "[2 points]"
   ]
  },
  {
   "cell_type": "code",
   "execution_count": 7,
   "id": "19865538",
   "metadata": {},
   "outputs": [],
   "source": [
    "def sum_list(a_list):\n",
    "    # handle some trival list cases\n",
    "    if len(a_list) < 1:\n",
    "        return 0\n",
    "    if len(a_list) == 1:\n",
    "        return a_list[0]\n",
    "\n",
    "    # list must be >= 2\n",
    "    if len(a_list) == 2:\n",
    "        a, b = a_list\n",
    "        return a + b\n",
    "\n",
    "    else:\n",
    "        # First element\n",
    "        a = a_list[0]\n",
    "        # All the rest\n",
    "        b = sum_list(a_list[1:])\n",
    "        return a + b"
   ]
  },
  {
   "cell_type": "code",
   "execution_count": 8,
   "id": "a655d22a",
   "metadata": {},
   "outputs": [],
   "source": [
    "# autograder tests\n",
    "assert sum_list([]) == 0\n",
    "for i in range(1, 100):\n",
    "    list_ = list(range(i))\n",
    "    assert sum_list(list_) == sum(list_)"
   ]
  },
  {
   "cell_type": "code",
   "execution_count": 9,
   "id": "4a159266",
   "metadata": {},
   "outputs": [],
   "source": [
    "# autograder tests\n",
    "from bdb import Bdb\n",
    "import sys\n",
    "\n",
    "class RecursionDetected(Exception):\n",
    "    pass\n",
    "\n",
    "class RecursionDetector(Bdb):\n",
    "    def do_clear(self, arg):\n",
    "        pass\n",
    "\n",
    "    def __init__(self, *args):\n",
    "        Bdb.__init__(self, *args)\n",
    "        self.stack = set()\n",
    "\n",
    "    def user_call(self, frame, argument_list):\n",
    "        code = frame.f_code\n",
    "        if code in self.stack:\n",
    "            raise RecursionDetected\n",
    "        self.stack.add(code)\n",
    "\n",
    "    def user_return(self, frame, return_value):\n",
    "        self.stack.remove(frame.f_code)\n",
    "\n",
    "def test_recursion(func):\n",
    "    detector = RecursionDetector()\n",
    "    detector.set_trace()\n",
    "    try:\n",
    "        func()\n",
    "    except RecursionDetected:\n",
    "        return True\n",
    "    else:\n",
    "        return False\n",
    "    finally:\n",
    "        sys.settrace(None)\n",
    "        \n",
    "assert test_recursion(lambda: sum_list(list(range(10))))"
   ]
  },
  {
   "cell_type": "markdown",
   "id": "aa559f6a",
   "metadata": {},
   "source": [
    "## Question 4\n",
    "Create a recursive function `fib` to find the nth [Fibonacci number](https://en.wikipedia.org/wiki/Fibonacci_number). Assume that the the sequence starts with `0, 1, 1, ...`.\n",
    "\n",
    "```py\n",
    ">>> fib(0)\n",
    "0\n",
    ">>> fib(5)\n",
    "5\n",
    ">>> fib(10)\n",
    "55\n",
    "```\n",
    "\n",
    "If your solution uses exceptions, the except statements must not be bare (ie. the must specify the errors they can catch).\n",
    "\n",
    "[2 points]"
   ]
  },
  {
   "cell_type": "code",
   "execution_count": 10,
   "id": "c3be0e8e",
   "metadata": {},
   "outputs": [],
   "source": [
    "def fib(n):\n",
    "    if n < 2:\n",
    "        return n\n",
    "    return fib(n - 2) + fib(n - 1)"
   ]
  },
  {
   "cell_type": "code",
   "execution_count": 11,
   "id": "a03f038e",
   "metadata": {},
   "outputs": [],
   "source": [
    "# autograder tests\n",
    "assert fib(0) == 0\n",
    "assert fib(5) == 5\n",
    "assert fib(10) == 55"
   ]
  },
  {
   "cell_type": "code",
   "execution_count": 12,
   "id": "70d85a4b",
   "metadata": {},
   "outputs": [],
   "source": [
    "# autograder tests\n",
    "assert fib(20) == 6765\n",
    "assert test_recursion(lambda: fib(5))"
   ]
  },
  {
   "cell_type": "markdown",
   "id": "879661cb",
   "metadata": {},
   "source": [
    "## Question 5\n",
    "\n",
    "Write a function `verify` that takes a string and returns the string if it contains at least one number, one uppercase letter, and one lowercase letter. The function should raise a `ValueError` otherwise. The `ValueError` should have the exact message `\"Must contain a number, an uppercase letter, and a lowercase letter\"`.\n",
    "\n",
    "[1 point]"
   ]
  },
  {
   "cell_type": "code",
   "execution_count": 13,
   "id": "65018eb5",
   "metadata": {},
   "outputs": [],
   "source": [
    "def verify(string):\n",
    "    has_upper, has_lower, has_digit = False, False, False\n",
    "    for char in string:\n",
    "        if char.isupper():\n",
    "            has_upper = True\n",
    "        elif char.islower():\n",
    "            has_lower = True\n",
    "        elif char in \"0123456789\":\n",
    "            has_digit = True\n",
    "    if all((has_upper, has_lower, has_digit)):\n",
    "        return string\n",
    "    raise ValueError(\"Must contain a number, an uppercase letter, and a lowercase letter\")"
   ]
  },
  {
   "cell_type": "code",
   "execution_count": 14,
   "id": "e9bec14b",
   "metadata": {},
   "outputs": [],
   "source": [
    "# autograder tests\n",
    "msg = 'Must contain a number, an uppercase letter, and a lowercase letter'\n",
    "\n",
    "try:\n",
    "    verify('ab1')\n",
    "    assert False, 'Should not pass'\n",
    "except ValueError as e:\n",
    "    assert str(e) == msg\n",
    "    \n",
    "try:\n",
    "    verify('AB1')\n",
    "    assert False, 'Should not pass'\n",
    "except ValueError as e:\n",
    "    assert str(e) == msg\n",
    "    \n",
    "try:\n",
    "    verify('Abc')\n",
    "    assert False, 'Should not pass'\n",
    "except ValueError as e:\n",
    "    assert str(e) == msg\n",
    "    \n",
    "try:\n",
    "    verify('Ab1')\n",
    "    assert True\n",
    "except ValueError as e:\n",
    "    assert False, 'Should pass'\n"
   ]
  },
  {
   "cell_type": "markdown",
   "id": "bbb51eba",
   "metadata": {},
   "source": [
    "## Question 6\n",
    "\n",
    "Implement a function called `is_ten` that takes in one argument, an `int`, and returns `True` if the argument is equal to `10`, and `False` if not.\n",
    "\n",
    "Then, implement a second function called `test_is_ten` that takes in no arguments, and calls the first function, `is_ten` at least twice. For each time you call `is_ten`, use `assert` statements to test the expected return value equals actual return value.\n",
    "\n",
    "[1 point]"
   ]
  },
  {
   "cell_type": "code",
   "execution_count": 16,
   "id": "d6b7e0b2",
   "metadata": {},
   "outputs": [],
   "source": [
    "def is_ten(x):\n",
    "    return x == 10\n",
    "    \n",
    "def test_is_ten():\n",
    "    assert is_ten(10)\n",
    "    assert is_ten(11) is False"
   ]
  },
  {
   "cell_type": "code",
   "execution_count": 17,
   "id": "401d2c5f",
   "metadata": {},
   "outputs": [],
   "source": [
    "# autograder tests\n",
    "test_is_ten()  # should just pass"
   ]
  },
  {
   "cell_type": "code",
   "execution_count": 18,
   "id": "b97b6b9b",
   "metadata": {},
   "outputs": [],
   "source": [
    "# autograder tests\n",
    "# check the code itself to see if there are at least two assert statements\n",
    "num_of_asserts = 0\n",
    "func = ast.parse(inspect.getsource(test_is_ten))\n",
    "for node in ast.walk(func):\n",
    "    if type(node) == ast.Assert:\n",
    "        num_of_asserts += 1\n",
    "        \n",
    "assert num_of_asserts >= 2"
   ]
  }
 ],
 "metadata": {
  "kernelspec": {
   "display_name": "Python 3 (ipykernel)",
   "language": "python",
   "name": "python3"
  },
  "language_info": {
   "codemirror_mode": {
    "name": "ipython",
    "version": 3
   },
   "file_extension": ".py",
   "mimetype": "text/x-python",
   "name": "python",
   "nbconvert_exporter": "python",
   "pygments_lexer": "ipython3",
   "version": "3.9.9"
  }
 },
 "nbformat": 4,
 "nbformat_minor": 5
}
