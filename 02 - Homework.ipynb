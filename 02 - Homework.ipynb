{
 "cells": [
  {
   "cell_type": "markdown",
   "id": "f4d4d8b5",
   "metadata": {},
   "source": [
    "# Homework 2: Fundamentals Con't"
   ]
  },
  {
   "cell_type": "markdown",
   "id": "cf51431f",
   "metadata": {},
   "source": [
    "## Question 1\n",
    "\n",
    "Define a function called `underline` which takes two parameters: a string, and then a character to use to underline the string with. The function should `return` a string with 2 lines denoted by newline characters, where the first line is the string provided and the second is the underline character repeated the same length as the string itself.\n",
    "\n",
    "Example input to `underline`:\n",
    "\n",
    "```py\n",
    "my_string = \"I love autumn!\"\n",
    "ch = \"+\"\n",
    "```\n",
    "\n",
    "Expected returned string from calling `underline`:\n",
    "\n",
    "```py\n",
    "'I love autumn!\\n++++++++++++++\\n'\n",
    "```\n",
    "\n",
    "There will be no credit awarded if you use the `print` function.\n",
    "\n",
    "\n",
    "[1 point]"
   ]
  },
  {
   "cell_type": "code",
   "execution_count": 1,
   "id": "53ff8f33",
   "metadata": {},
   "outputs": [],
   "source": [
    "def underline(string, ch):\n",
    "    line = ch * len(string)\n",
    "    return f\"{string}\\n{line}\\n\""
   ]
  },
  {
   "cell_type": "code",
   "execution_count": 2,
   "id": "503a1eca",
   "metadata": {},
   "outputs": [],
   "source": [
    "# Autograder tests\n",
    "result = underline(\"I love autumn!\", \"+\")\n",
    "\n",
    "assert result == \"I love autumn!\\n++++++++++++++\\n\""
   ]
  },
  {
   "cell_type": "code",
   "execution_count": 3,
   "id": "b8db996e",
   "metadata": {},
   "outputs": [],
   "source": [
    "# Autograder tests\n",
    "result = underline(\"foo\", \"-\")\n",
    "assert isinstance(result, str)"
   ]
  },
  {
   "cell_type": "code",
   "execution_count": 4,
   "id": "4ed50de1",
   "metadata": {},
   "outputs": [],
   "source": [
    "# Autograder tests\n",
    "result = underline(\"foo\", \"-\")\n",
    "assert result == \"foo\\n---\\n\""
   ]
  },
  {
   "cell_type": "markdown",
   "id": "c22b4950",
   "metadata": {},
   "source": [
    "## Question 2\n",
    "\n",
    "Implement the function `evens` that returns all the even numbers between `0` and a given number `x`. Zero should be included in the result but `x` should not be included unless `x` is zero. You may return a `list` or any other container type. `x` may be negative, in which case an empty `list` must be returned.\n",
    "\n",
    "[1 point]"
   ]
  },
  {
   "cell_type": "code",
   "execution_count": 6,
   "id": "67e190ff",
   "metadata": {},
   "outputs": [],
   "source": [
    "def evens(x):\n",
    "    if x == 0:\n",
    "        return [0]\n",
    "    numbers = []\n",
    "    for y in range(x):\n",
    "        if y % 2 == 0:\n",
    "            numbers.append(y)\n",
    "    return numbers"
   ]
  },
  {
   "cell_type": "code",
   "execution_count": 7,
   "id": "c29ca9bf",
   "metadata": {},
   "outputs": [],
   "source": [
    "# Autograder tests\n",
    "assert set(evens(0)) == set([0])"
   ]
  },
  {
   "cell_type": "code",
   "execution_count": 8,
   "id": "8564ef8a",
   "metadata": {},
   "outputs": [],
   "source": [
    "# Autograder tests\n",
    "assert set(evens(9)) == set([0, 2, 4, 6, 8])"
   ]
  },
  {
   "cell_type": "code",
   "execution_count": 9,
   "id": "334742cc",
   "metadata": {},
   "outputs": [],
   "source": [
    "# Autograder tests\n",
    "assert set(evens(10)) == set([0, 2, 4, 6, 8])"
   ]
  },
  {
   "cell_type": "code",
   "execution_count": 10,
   "id": "4f25a10a",
   "metadata": {},
   "outputs": [],
   "source": [
    "# Autograder tests\n",
    "assert set(evens(-10)) == set([])"
   ]
  },
  {
   "cell_type": "markdown",
   "id": "34e013ef",
   "metadata": {},
   "source": [
    "## Question 3\n",
    "Write a function `compress` that takes a string of characters, counts each adjacent occurrence of a character, and produces a compressed string with each character and its count. For example:\n",
    "\n",
    "`'aaaabbbbcc'` would compress to `'a4b4c2'`.\n",
    "\n",
    "You can assume that the source string will be lowercase and that only consecutively adjacent characters should be compressed -- in otherwords, `aabbaa` should compress to `a2b2a2`, not `a4b2`.\n",
    "\n",
    "[2 points]"
   ]
  },
  {
   "cell_type": "code",
   "execution_count": 12,
   "id": "4d3d6afb",
   "metadata": {},
   "outputs": [],
   "source": [
    "def compress(letter_string):\n",
    "    last_letter = None\n",
    "    result = ''\n",
    "    count = 0\n",
    "    for letter in letter_string:\n",
    "        if letter != last_letter:\n",
    "            if last_letter:\n",
    "                # append to result string\n",
    "                result += last_letter + str(count)\n",
    "\n",
    "            # reset counter\n",
    "            count = 1\n",
    "\n",
    "        else:\n",
    "            count += 1\n",
    "\n",
    "        last_letter = letter\n",
    "\n",
    "    if last_letter:\n",
    "        result += last_letter + str(count)\n",
    "\n",
    "    return result"
   ]
  },
  {
   "cell_type": "code",
   "execution_count": 13,
   "id": "28ff9843",
   "metadata": {},
   "outputs": [],
   "source": [
    "# Autograder tests\n",
    "assert compress('aaaabbbbcccc') == 'a4b4c4'"
   ]
  },
  {
   "cell_type": "code",
   "execution_count": 14,
   "id": "647444ee",
   "metadata": {},
   "outputs": [],
   "source": [
    "# Autograder tests\n",
    "assert compress('') == ''"
   ]
  },
  {
   "cell_type": "code",
   "execution_count": 15,
   "id": "5c0ae99c",
   "metadata": {},
   "outputs": [],
   "source": [
    "# Autograder tests\n",
    "assert compress('cccddee') == 'c3d2e2'"
   ]
  },
  {
   "cell_type": "code",
   "execution_count": 16,
   "id": "170a747a",
   "metadata": {},
   "outputs": [],
   "source": [
    "# Autograder tests\n",
    "assert compress('a' * 1000) == 'a1000'"
   ]
  },
  {
   "cell_type": "code",
   "execution_count": 17,
   "id": "88b3b6d6",
   "metadata": {},
   "outputs": [],
   "source": [
    "# Autograder tests\n",
    "import random\n",
    "import string\n",
    "import collections\n",
    "\n",
    "letters = (random.choice(string.ascii_lowercase) for _ in range(100))\n",
    "counter = collections.Counter(letters)\n",
    "tuples = sorted(counter.items())\n",
    "\n",
    "letter_string = ''.join(x * y for x, y in tuples)\n",
    "\n",
    "assert compress(letter_string) == ''.join(x + str(y) for x, y in tuples)"
   ]
  },
  {
   "cell_type": "markdown",
   "id": "49e52c71",
   "metadata": {},
   "source": [
    "## Question 4\n",
    "Write a function `endpoints` that takes a list of numbers (eg. `[5, 10, 15, 20, 25]`) and returns a new `list` of only the first and last elements of the given list (eg. `[5, 25]`). If the input list is `[5]`, the returned should be `[5,5]`. The function should return an empty list if an empty list is passed in.\n",
    "\n",
    "[1 point]"
   ]
  },
  {
   "cell_type": "code",
   "execution_count": 18,
   "id": "1badc50a",
   "metadata": {},
   "outputs": [],
   "source": [
    "def endpoints(numbers):\n",
    "    if not numbers:\n",
    "        return []\n",
    "    return [numbers[0], numbers[-1]]"
   ]
  },
  {
   "cell_type": "code",
   "execution_count": 20,
   "id": "02d85e09",
   "metadata": {},
   "outputs": [],
   "source": [
    "# Autograder tests\n",
    "assert endpoints([5, 10, 15, 20, 25]) == [5, 25]"
   ]
  },
  {
   "cell_type": "code",
   "execution_count": 21,
   "id": "55a60bf5",
   "metadata": {},
   "outputs": [],
   "source": [
    "# Autograder tests\n",
    "assert endpoints([5]) == [5, 5]"
   ]
  },
  {
   "cell_type": "code",
   "execution_count": 22,
   "id": "911f9aa5",
   "metadata": {},
   "outputs": [],
   "source": [
    "# Autograder tests\n",
    "assert endpoints([]) == []"
   ]
  },
  {
   "cell_type": "code",
   "execution_count": 23,
   "id": "cd8a1f76",
   "metadata": {},
   "outputs": [],
   "source": [
    "# Autograder tests\n",
    "assert endpoints([x for x in range(12, 25)]) == [12, 24]"
   ]
  },
  {
   "cell_type": "markdown",
   "id": "3139a732",
   "metadata": {},
   "source": [
    "## Question 5\n",
    "Write a function `common` that consumes two lists of numbers, and that produces a list that contains only the common elements (without duplicates). Make sure your program works on two lists of different sizes and returns the common elements in sorted ascending order.\n",
    "\n",
    "```py\n",
    "a = [1, 1, 2, 3, 5, 8, 13, 21, 34, 55, 89]\n",
    "b = [1, 2, 3, 4, 5, 6, 7, 8, 9, 10, 11, 12, 13]\n",
    "\n",
    "# result\n",
    "[1, 2, 3, 5, 8, 13]\n",
    "```\n",
    "\n",
    "[1 point]"
   ]
  },
  {
   "cell_type": "code",
   "execution_count": 25,
   "id": "bde3bcc7",
   "metadata": {},
   "outputs": [],
   "source": [
    "def common(a, b):\n",
    "    return sorted(set(a).intersection(b))"
   ]
  },
  {
   "cell_type": "code",
   "execution_count": 26,
   "id": "410bdf30",
   "metadata": {},
   "outputs": [],
   "source": [
    "# Autograder tests\n",
    "a = [1, 1, 2, 3, 5, 8, 13, 21, 34, 55, 89]\n",
    "b = [1, 2, 3, 4, 5, 6, 7, 8, 9, 10, 11, 12, 13]\n",
    "\n",
    "assert [1, 2, 3, 5, 8, 13] == common(a, b)"
   ]
  },
  {
   "cell_type": "code",
   "execution_count": 27,
   "id": "0e959c30",
   "metadata": {},
   "outputs": [],
   "source": [
    "# Autograder tests\n",
    "import random\n",
    "\n",
    "a = [random.randint(1, 45) for x in range(random.randint(-50, 50))]\n",
    "b = [random.randint(1, 45) for x in range(random.randint(-50, 50))]\n",
    "\n",
    "assert common(a, b) == sorted(set(a).intersection(b))"
   ]
  },
  {
   "cell_type": "code",
   "execution_count": 28,
   "id": "5dca32e3",
   "metadata": {},
   "outputs": [],
   "source": [
    "# Autograder tests\n",
    "a = [6, 2, 1, 5, 4]\n",
    "b = [1, 2, 3, 5, 7]\n",
    "\n",
    "assert common(a, b) == [1, 2, 5]"
   ]
  },
  {
   "cell_type": "code",
   "execution_count": 29,
   "id": "4d953cb8",
   "metadata": {},
   "outputs": [],
   "source": [
    "# Autograder tests\n",
    "a = []\n",
    "b = [1, 2, 3, 5, 7]\n",
    "\n",
    "assert common(a, b) == []"
   ]
  },
  {
   "cell_type": "code",
   "execution_count": 30,
   "id": "67073b49",
   "metadata": {},
   "outputs": [],
   "source": [
    "# Autograder tests\n",
    "a = [1, 2, 3, 4]\n",
    "b = [1, 2, 3, 4]\n",
    "\n",
    "assert common(a, b) == [1, 2, 3, 4]"
   ]
  },
  {
   "cell_type": "markdown",
   "id": "b4251635",
   "metadata": {},
   "source": [
    "## Question 6 \n",
    "Create a function `is_list_palindrome` that checks whether a given list is a palindrome (i.e. has equal elements read both forwards and backwards).\n",
    "\n",
    "```pycon\n",
    ">>> f = is_list_palindrome([1, 2, 3])\n",
    "False\n",
    "\n",
    ">>> f = is_list_palindrome([\"foo\", 2, 2, \"foo\"])\n",
    "True\n",
    "```\n",
    "The empty list is \"vacuously\" a palindrome!\n",
    "\n",
    "[1 point]"
   ]
  },
  {
   "cell_type": "code",
   "execution_count": 1,
   "id": "f016bf80",
   "metadata": {},
   "outputs": [],
   "source": [
    "def is_list_palindrome(value):\n",
    "    return value == value[::-1]"
   ]
  },
  {
   "cell_type": "code",
   "execution_count": 2,
   "id": "0100e361",
   "metadata": {},
   "outputs": [],
   "source": [
    "# Autograder tests\n",
    "assert not is_list_palindrome([1, 2, 3])"
   ]
  },
  {
   "cell_type": "code",
   "execution_count": 3,
   "id": "33198c4c",
   "metadata": {},
   "outputs": [],
   "source": [
    "# Autograder tests\n",
    "assert is_list_palindrome([\"foo\", 2, 2, \"foo\"])"
   ]
  },
  {
   "cell_type": "code",
   "execution_count": 4,
   "id": "e78a867a",
   "metadata": {},
   "outputs": [],
   "source": [
    "# Autograder tests\n",
    "assert is_list_palindrome([])"
   ]
  },
  {
   "cell_type": "code",
   "execution_count": 5,
   "id": "e88127cb",
   "metadata": {},
   "outputs": [],
   "source": [
    "# Autograder tests\n",
    "import random\n",
    "\n",
    "a = [random.randint(1, 45) for _ in range(random.randint(-50, 50))]\n",
    "value = a + list(reversed(a))\n",
    "\n",
    "assert is_list_palindrome(value)\n",
    "assert is_list_palindrome([1])"
   ]
  },
  {
   "cell_type": "markdown",
   "id": "15e4db4c",
   "metadata": {},
   "source": [
    "## Question 7\n",
    "\n",
    "Define a function named `merge` that takes in two dictionaries and merges them into one dictionary. If the two dictionaries happen to have common keys, then the first dictionary should take precedent. The returned dictionary doesn't matter for this question.\n",
    "\n",
    "```py\n",
    "dict1 = {\"a\": 10, \"b\": 8}\n",
    "dict2 = {\"c\": 6, \"d\": 4}\n",
    "# result\n",
    "{\"a\": 10, \"b\": 8, \"c\": 6, \"d\": 4}\n",
    "\n",
    "dict3 = {\"a\": 10, \"b\": 8}\n",
    "dict4 = {\"b\": 12, \"c\": 8}\n",
    "# result\n",
    "{\"a\": 10, \"b\": 8, \"c\": 8}\n",
    "```\n",
    "\n",
    "[1 point]"
   ]
  },
  {
   "cell_type": "code",
   "execution_count": 31,
   "id": "fc055ae8",
   "metadata": {},
   "outputs": [],
   "source": [
    "def merge(dict1, dict2):\n",
    "    dict2.update(dict1)\n",
    "    return dict2"
   ]
  },
  {
   "cell_type": "code",
   "execution_count": 32,
   "id": "12f7236b",
   "metadata": {},
   "outputs": [],
   "source": [
    "# Autograder tests\n",
    "dict1 = {\"a\": 10, \"b\": 8}\n",
    "dict2 = {\"c\": 6, \"d\": 4}\n",
    "expected = {\"a\": 10, \"b\": 8, \"c\": 6, \"d\": 4}\n",
    "actual = merge(dict1, dict2)\n",
    "assert expected == actual"
   ]
  },
  {
   "cell_type": "code",
   "execution_count": 33,
   "id": "db8376fb",
   "metadata": {},
   "outputs": [],
   "source": [
    "# Autograder tests\n",
    "dict3 = {\"a\": 10, \"b\": 8}\n",
    "dict4 = {\"b\": 12, \"c\": 8}\n",
    "expected = {\"b\": 8, \"a\": 10, \"c\": 8}\n",
    "actual = merge(dict3, dict4)\n",
    "assert expected == actual"
   ]
  },
  {
   "cell_type": "code",
   "execution_count": 34,
   "id": "70c2e258",
   "metadata": {},
   "outputs": [],
   "source": [
    "# Autograder tests\n",
    "assert {} == merge({}, {})\n",
    "dict3 = {\"a\": 10, \"b\": 8}\n",
    "dict4 = {\"b\": 12, \"c\": 8}\n",
    "expected = {**dict4, **dict3}\n",
    "actual = merge(dict3, dict4)\n",
    "assert expected == actual"
   ]
  },
  {
   "cell_type": "markdown",
   "id": "14e0adc9",
   "metadata": {},
   "source": [
    "## Question 8\n",
    "\n",
    "We have covered some fundamental string manipulation operations in class, such as `str.strip` and `str.replace`. There are [many many more](https://docs.python.org/3/library/stdtypes.html#string-methods) which you should familiarize yourself with.\n",
    "\n",
    "Because of the richness of these methods, parsing a string into meaningful subcomponents is often a breeze.\n",
    "\n",
    "Imagine a (multiline) string like:\n",
    "\n",
    "```py\n",
    "\"\"\"\n",
    "Columbia to Launch 25 Million Dollar AI-based Climate Modeling Center\n",
    "---------------------------------------------------------------------\n",
    "Author: Kim Martineau\n",
    "\n",
    "Funded by the National Science Foundation, the center will leverage big data and machine learning to improve climate projections.\n",
    "\n",
    "It should also motivate societies to invest in policies and infrastructure to confront rising seas and warmer temperatures.\n",
    "\"\"\"\n",
    "```\n",
    " \n",
    "Implement the `parse` function so that it parses the above news article snippet into:\n",
    "\n",
    "```py\n",
    "{\n",
    "    \"title\": \"Columbia to Launch 25 Million Dollar AI-based Climate Modeling Center\",\n",
    "    \"author\": \"Kim Martineau\",\n",
    "    \"body\": \"Funded by the National Science Foundation, the center will leverage big data and machine learning to improve climate projections.\\n\\nIt should also motivate societies to invest in policies and infrastructure to confront rising seas and warmer temperatures.\",\n",
    "}\n",
    "```\n",
    "i.e. a dict where the title of the article and its body have been extracted into two separate values.\n",
    "\n",
    "Articles may be missing (i.e. not have) an author. As another example:\n",
    "\n",
    "```py\n",
    "\"\"\"\n",
    "Columbia Pledges That All Future Campus Construction Will Be Fossil Free\n",
    "------------------------------------------------------------------------\n",
    "\n",
    "As Climate Week NYC begins, the university explores creating a fully electrified campus. The Columbia Climate School is university partner of the weeklong climate showcase.\n",
    "\"\"\"\n",
    "```\n",
    "\n",
    "should be parsed into:\n",
    "\n",
    "```\n",
    "{\n",
    "    \"title\": \"Columbia Pledges That All Future Campus Construction Will Be Fossil Free\",\n",
    "    \"author\": None,\n",
    "    \"body\": \"As Climate Week NYC begins, the university explores creating a fully electrified campus. The Columbia Climate School is university partner of the weeklong climate showcase.\",\n",
    "}\n",
    "```\n",
    "    \n",
    "You may assume that:\n",
    "\n",
    "* the title is always followed by a line which underlines it\n",
    "* the next line will begin with exactly the contents \"Author: \" followed by the author's name, if the article has an author\n",
    "* any further lines are the body of the article\n",
    "* the body of the article may contain multiple lines\n",
    "* leading and trailing whitespace around the body can be ignored\n",
    "\n",
    "[3 points]"
   ]
  },
  {
   "cell_type": "code",
   "execution_count": 35,
   "id": "72f52986",
   "metadata": {},
   "outputs": [],
   "source": [
    "def parse(article):\n",
    "    lines = article.strip().splitlines()\n",
    "    if lines[2].startswith(\"Author: \"):\n",
    "        author = lines[2][len(\"Author: \"):]\n",
    "        body = \"\\n\".join(lines[3:])\n",
    "    else:\n",
    "        body = \"\\n\".join(lines[2:])\n",
    "        author = None\n",
    "    return {\"title\": lines[0], \"author\": author, \"body\": body}"
   ]
  },
  {
   "cell_type": "code",
   "execution_count": 36,
   "id": "4820736e",
   "metadata": {},
   "outputs": [],
   "source": [
    "# Autograder tests\n",
    "article = \"\"\"\n",
    "Columbia to Launch 25 Million Dollar AI-based Climate Modeling Center\n",
    "---------------------------------------------------------------------\n",
    "Author: Kim Martineau\n",
    "\n",
    "Funded by the National Science Foundation, the center will leverage big data and machine learning to improve climate projections.\n",
    "\n",
    "It should also motivate societies to invest in policies and infrastructure to confront rising seas and warmer temperatures.\n",
    "\"\"\"\n",
    "\n",
    "result = parse(article)\n",
    "result[\"body\"] = result[\"body\"].strip()\n",
    "\n",
    "assert result == {\n",
    "    \"title\": \"Columbia to Launch 25 Million Dollar AI-based Climate Modeling Center\",\n",
    "    \"author\": \"Kim Martineau\",\n",
    "    \"body\": \"Funded by the National Science Foundation, the center will leverage big data and machine learning to improve climate projections.\\n\\nIt should also motivate societies to invest in policies and infrastructure to confront rising seas and warmer temperatures.\",\n",
    "}"
   ]
  },
  {
   "cell_type": "code",
   "execution_count": 37,
   "id": "a1e6fb8b",
   "metadata": {},
   "outputs": [],
   "source": [
    "# Autograder tests\n",
    "article = \"\"\"\n",
    "Columbia Pledges That All Future Campus Construction Will Be Fossil Free\n",
    "------------------------------------------------------------------------\n",
    "\n",
    "As Climate Week NYC begins, the university explores creating a fully electrified campus. The Columbia Climate School is university partner of the weeklong climate showcase.\n",
    "\"\"\"\n",
    "\n",
    "result = parse(article)\n",
    "result[\"body\"] = result[\"body\"].strip()\n",
    "\n",
    "assert result == {\n",
    "    \"title\": \"Columbia Pledges That All Future Campus Construction Will Be Fossil Free\",\n",
    "    \"author\": None,\n",
    "    \"body\": \"As Climate Week NYC begins, the university explores creating a fully electrified campus. The Columbia Climate School is university partner of the weeklong climate showcase.\",\n",
    "}"
   ]
  },
  {
   "cell_type": "code",
   "execution_count": 38,
   "id": "b63a3171",
   "metadata": {},
   "outputs": [],
   "source": [
    "# Autograder tests\n",
    "article = \"\"\"\n",
    "Another Article\n",
    "---------------\n",
    "\n",
    "The body of the article.\n",
    "\"\"\"\n",
    "\n",
    "result = parse(article)\n",
    "result[\"body\"] = result[\"body\"].strip()\n",
    "\n",
    "assert result == {\n",
    "    \"title\": \"Another Article\",\n",
    "    \"author\": None,\n",
    "    \"body\": \"The body of the article.\",\n",
    "}"
   ]
  },
  {
   "cell_type": "code",
   "execution_count": 39,
   "id": "6891b405",
   "metadata": {},
   "outputs": [],
   "source": [
    "# Autograder tests\n",
    "article = \"\"\"\n",
    "The Title\n",
    "---------\n",
    "\n",
    "Authorship is a challenging profession.\n",
    "\"\"\"\n",
    "\n",
    "result = parse(article)\n",
    "result[\"body\"] = result[\"body\"].strip()\n",
    "\n",
    "assert result == {\n",
    "    \"title\": \"The Title\",\n",
    "    \"author\": None,\n",
    "    \"body\": \"Authorship is a challenging profession.\",\n",
    "}"
   ]
  },
  {
   "cell_type": "markdown",
   "id": "3559d56a",
   "metadata": {},
   "source": [
    "## Question 9\n",
    "Python's standard library has a module called `string` which contains a number of useful string constants which can be tedious to manually type out.\n",
    "\n",
    "For example, [string.ascii_uppercase](https://docs.python.org/3/library/string.html#string.ascii_uppercase) is a pre-built string containing the Latin (i.e. English) alphabet in uppercase -- so the letters 'ABC...XYZ'.\n",
    "\n",
    "In the cell below, write a single line of code that imports the string module such that someone can use `ascii_uppercase` without needing to prefix it by string. -- i.e. so that simply `ascii_uppercase` is the above referenced string.\n",
    "    \n",
    "[0.5 Points]"
   ]
  },
  {
   "cell_type": "code",
   "execution_count": 40,
   "id": "c280eb83",
   "metadata": {},
   "outputs": [],
   "source": [
    "from string import ascii_uppercase"
   ]
  },
  {
   "cell_type": "code",
   "execution_count": 41,
   "id": "e31f4488",
   "metadata": {},
   "outputs": [],
   "source": [
    "# Autograter tests\n",
    "import string\n",
    "assert ascii_uppercase == string.ascii_uppercase"
   ]
  },
  {
   "cell_type": "markdown",
   "id": "6997d6a8",
   "metadata": {},
   "source": [
    "## Question 10\n",
    "A businessman named Alan has an office calendar with 12 free meeting slots, numbered simply from `1` through `12`.\n",
    "\n",
    "Alan has 3 stakeholders, Liam, Mia and Sofia that he needs to meet with on an ongoing basis, each of whom put meetings on Alan's calendar. No meeting can overlap with any other.\n",
    "\n",
    "Alan needs a way of deciding whether his calendar is fully booked for a given day.\n",
    "\n",
    "Write a function `is_alan_fully_booked`, which takes as input 3 separate sets which represent which slots each of Liam, Mia and Sofia have booked on his calendar, and which returns `True` if Alan has no free slots on his calendar, and `False` if he has a remaining free slot.\n",
    "\n",
    "As an example -- `is_alan_fully_booked(liam={1, 7, 8}, mia={2, 3, 4, 5, 6}, sofia={9, 10, 11, 12})` should return `True`, and `is_alan_fully_booked(liam={1, 2, 3, 4, 5, 6, 7}, mia=set(), sofia=set())` should return `False`.\n",
    "\n",
    "[1.5 point]"
   ]
  },
  {
   "cell_type": "code",
   "execution_count": 42,
   "id": "ce9460f1",
   "metadata": {},
   "outputs": [],
   "source": [
    "def is_alan_fully_booked(liam, mia, sofia):\n",
    "    return (liam | mia | sofia) == set(range(1, 13))"
   ]
  },
  {
   "cell_type": "code",
   "execution_count": 43,
   "id": "9122a60d",
   "metadata": {},
   "outputs": [],
   "source": [
    "# Autograder tests\n",
    "liam = {1, 7, 8}\n",
    "mia = {2, 3, 4, 5, 6}\n",
    "sofia = {9, 10, 11, 12}\n",
    "assert is_alan_fully_booked(liam, mia, sofia) == True"
   ]
  },
  {
   "cell_type": "code",
   "execution_count": 44,
   "id": "e41c4244",
   "metadata": {},
   "outputs": [],
   "source": [
    "# Autograder tests\n",
    "liam = {1, 2, 3, 4, 5, 6, 7}\n",
    "mia = set()\n",
    "sofia = set()\n",
    "assert is_alan_fully_booked(liam, mia, sofia) == False"
   ]
  },
  {
   "cell_type": "code",
   "execution_count": 45,
   "id": "6f7cc02a",
   "metadata": {},
   "outputs": [],
   "source": [
    "# Autograder tests\n",
    "assert is_alan_fully_booked(liam=set(), mia=set(), sofia=set()) == False\n",
    "assert is_alan_fully_booked(liam=set(range(1, 13)), mia=set(), sofia=set()) == True"
   ]
  },
  {
   "cell_type": "markdown",
   "id": "ae2aedff",
   "metadata": {},
   "source": [
    "## Question 11\n",
    "\n",
    "In addition to knowing whether he is fully booked, Alan needs to know what slots he has remaining in a given day.\n",
    "\n",
    "Define a function `free_slots` which again takes each of the 3 stakeholders' booked slots and returns a set containing all the slots which are not booked by any of the 3 stakeholders.\n",
    "\n",
    "As an example -- `free_slots(liam={1, 7, 8}, mia=set(), sofia={9, 10, 11, 12})` should return `{2, 3, 4, 5, 6}`, and `free_slots(liam={1, 2, 3, 4, 5, 6, 7, 12}, mia=set(), sofia=set())` should return `{8, 9, 10, 11}`.\n",
    "\n",
    "[1 point]"
   ]
  },
  {
   "cell_type": "code",
   "execution_count": 46,
   "id": "6ac3f8c5",
   "metadata": {},
   "outputs": [],
   "source": [
    "def free_slots(liam, mia, sofia):\n",
    "    return set(range(1, 13)) - (liam | mia | sofia)"
   ]
  },
  {
   "cell_type": "code",
   "execution_count": 47,
   "id": "fde40f34",
   "metadata": {},
   "outputs": [],
   "source": [
    "# Autograder tests\n",
    "liam = {1, 7, 8}\n",
    "mia = set()\n",
    "sofia = {9, 10, 11, 12}\n",
    "expected_free_slots = {2, 3, 4, 5, 6}\n",
    "\n",
    "assert free_slots(liam, mia, sofia) == expected_free_slots"
   ]
  },
  {
   "cell_type": "code",
   "execution_count": 48,
   "id": "4a5a8e51",
   "metadata": {},
   "outputs": [],
   "source": [
    "# Autograder tests\n",
    "liam = {1, 2, 3, 4, 5, 6, 7, 12}\n",
    "mia = set()\n",
    "sofia = set()\n",
    "expected_free_slots = {8, 9, 10, 11}\n",
    "\n",
    "assert free_slots(liam, mia, sofia) == expected_free_slots"
   ]
  },
  {
   "cell_type": "code",
   "execution_count": 49,
   "id": "5a83997f",
   "metadata": {},
   "outputs": [],
   "source": [
    "# Autograder tests\n",
    "assert free_slots(liam=set(), mia=set(), sofia=set()) == set(range(1, 13))"
   ]
  },
  {
   "cell_type": "markdown",
   "id": "2038073d",
   "metadata": {},
   "source": [
    "## Question 12\n",
    "Finally, Alan also wants to know who out of Liam, Mia and Sofia are taking most of his time on a given day.\n",
    "\n",
    "Write a function `booked_most_meetings` which calculates who has booked the most of Alan's time on a given day.\n",
    "\n",
    "If multiple people have booked an equal amount of Alan's time, return any arbitrary single person's name.\n",
    "\n",
    "As an example, `booked_most_meetings(liam={1, 7, 8}, mia=set(), sofia={9, 10, 11, 12})` should return `\"sofia\"` who has booked 4.\n",
    "\n",
    "`booked_most_meetings(liam={1}, mia={2}, sofia={3})` may return any of `\"liam\"`, `\"mia\"`, or `\"sofia\"`, all of whom have booked an equal amount of Alan's time.\n",
    "\n",
    "[1 point]"
   ]
  },
  {
   "cell_type": "code",
   "execution_count": 50,
   "id": "26862f42",
   "metadata": {},
   "outputs": [],
   "source": [
    "def booked_most_meetings(liam, mia, sofia):\n",
    "    if len(liam) >= len(mia) and len(liam) >= len(sofia):\n",
    "        return \"liam\"\n",
    "    elif len(mia) >= len(liam) and len(mia) >= len(sofia):\n",
    "        return \"mia\"\n",
    "    else:\n",
    "        return \"sofia\""
   ]
  },
  {
   "cell_type": "code",
   "execution_count": 51,
   "id": "40f02a50",
   "metadata": {},
   "outputs": [],
   "source": [
    "# Autograder tests\n",
    "liam = {1, 7, 8}\n",
    "mia = set()\n",
    "sofia = {9, 10, 11, 12}\n",
    "\n",
    "assert booked_most_meetings(liam, mia, sofia) == \"sofia\""
   ]
  },
  {
   "cell_type": "code",
   "execution_count": 52,
   "id": "7c48b976",
   "metadata": {},
   "outputs": [],
   "source": [
    "# Autograder tests\n",
    "liam = {1}\n",
    "mia = {2}\n",
    "sofia = {3}\n",
    "\n",
    "expected_result = {\"liam\", \"mia\", \"sofia\"}\n",
    "# Since it can be any of them since it's all equal, we're just ensuring the result \n",
    "# is one of the three names\n",
    "assert booked_most_meetings(liam, mia, sofia) in expected_result"
   ]
  },
  {
   "cell_type": "code",
   "execution_count": 53,
   "id": "d0aa3337",
   "metadata": {},
   "outputs": [],
   "source": [
    "# Autograder tests\n",
    "assert booked_most_meetings(liam=set(), mia=set(), sofia=set()) in {\"liam\", \"mia\", \"sofia\"}"
   ]
  },
  {
   "cell_type": "code",
   "execution_count": 54,
   "id": "98a03576",
   "metadata": {},
   "outputs": [],
   "source": [
    "# Autograder tests\n",
    "assert booked_most_meetings(liam=set(), mia=set(range(1, 13)), sofia=set()) == \"mia\""
   ]
  }
 ],
 "metadata": {
  "kernelspec": {
   "display_name": "Python 3 (ipykernel)",
   "language": "python",
   "name": "python3"
  },
  "language_info": {
   "codemirror_mode": {
    "name": "ipython",
    "version": 3
   },
   "file_extension": ".py",
   "mimetype": "text/x-python",
   "name": "python",
   "nbconvert_exporter": "python",
   "pygments_lexer": "ipython3",
   "version": "3.9.9"
  }
 },
 "nbformat": 4,
 "nbformat_minor": 5
}
