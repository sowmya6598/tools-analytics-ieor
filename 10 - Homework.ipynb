{
 "cells": [
  {
   "cell_type": "markdown",
   "id": "9f8ddd39",
   "metadata": {},
   "source": [
    "# Homework 10: SQLAlchemy\n",
    "\n",
    "Total questions: 5<br/>\n",
    "Total points: 8\n",
    "\n",
    "### FYI\n",
    "\n",
    "In class, we used paths on your local machine outside of the notebook to persist data, but here, we'll use a special argument that `'sqlite:///:memory:'` in SQLAlchemy has which stores the database in-memory -- in otherwords, the database will live only so long as you're running the notebook. Afterwards, it will be thrown away. Usually this argument is useful when experimenting, given that as we discussed, it is persistence that often makes databases useful. We use it here however simply to avoid needing to upload multiple files to Courseworks -- everything you need is here.\n",
    "\n",
    "If for any reason you need to discard the contents of your database to start over, you may therefore do so by simply restarting the \"kernel\" of this notebook, which you can do by clicking the restart button in the toolbar (it's 2 buttons to the right of the \"Run\" button) or in the Kernel menu."
   ]
  },
  {
   "cell_type": "markdown",
   "id": "7908922b",
   "metadata": {},
   "source": [
    "## Question 1\n",
    "\n",
    "Using `SQLAlchemy`'s ORM (object relational mapping) layer, we will be creating a new database with some new tables.\n",
    "\n",
    "For the first table, create a table named `students` by defining a `Student` class. A `Student` should have the following:\n",
    "\n",
    "* a `uni` (`String`)\n",
    "* a `fullname` (`String`)\n",
    "* a `nickname` (`String`)\n",
    "* a planned `graduation_date` (`Date`)\n",
    "* a tuition `balance` (`Float`)\n",
    "\n",
    "as well as an `id` as a primary key.\n",
    "\n",
    "Be sure to define the `__tablename__` attribute within the `Student` class.\n",
    "\n",
    "[2.5 points]"
   ]
  },
  {
   "cell_type": "code",
   "execution_count": 14,
   "id": "804a45bc",
   "metadata": {},
   "outputs": [],
   "source": [
    "# Solution\n",
    "from sqlalchemy import Column, Date, Integer, Float, String\n",
    "from sqlalchemy.orm import declarative_base\n",
    "\n",
    "Base = declarative_base()\n",
    "\n",
    "class Student(Base):\n",
    "    __tablename__ = \"students\"\n",
    "    \n",
    "    id = Column(Integer, primary_key=True)\n",
    "    uni = Column(String)\n",
    "    fullname = Column(String)\n",
    "    nickname = Column(String)\n",
    "    graduation_date = Column(Date)\n",
    "    balance = Column(Float)"
   ]
  },
  {
   "cell_type": "code",
   "execution_count": 15,
   "id": "9c67fc8d",
   "metadata": {},
   "outputs": [],
   "source": [
    "# autograder tests\n",
    "assert Student.__table__.name == \"students\""
   ]
  },
  {
   "cell_type": "code",
   "execution_count": 16,
   "id": "3d602549",
   "metadata": {},
   "outputs": [],
   "source": [
    "assert hasattr(Student, \"id\")\n",
    "assert isinstance(Student.id.type, Integer)\n",
    "\n",
    "from sqlalchemy.inspection import inspect\n",
    "actual_primary_key = inspect(Student).primary_key[0]\n",
    "assert \"id\" == actual_primary_key.name"
   ]
  },
  {
   "cell_type": "code",
   "execution_count": 17,
   "id": "8a87a6d8",
   "metadata": {},
   "outputs": [],
   "source": [
    "assert hasattr(Student, \"uni\")\n",
    "assert isinstance(Student.uni.type, String)\n",
    "assert hasattr(Student, \"fullname\")\n",
    "assert isinstance(Student.fullname.type, String)\n",
    "assert hasattr(Student, \"nickname\")\n",
    "assert isinstance(Student.nickname.type, String)"
   ]
  },
  {
   "cell_type": "code",
   "execution_count": 18,
   "id": "a443ed89",
   "metadata": {},
   "outputs": [],
   "source": [
    "assert hasattr(Student, \"graduation_date\")\n",
    "assert isinstance(Student.graduation_date.type, Date)"
   ]
  },
  {
   "cell_type": "code",
   "execution_count": 19,
   "id": "f5655bce",
   "metadata": {},
   "outputs": [],
   "source": [
    "assert hasattr(Student, \"balance\")\n",
    "assert isinstance(Student.balance.type, Float)"
   ]
  },
  {
   "cell_type": "markdown",
   "id": "2769caee",
   "metadata": {},
   "source": [
    "## Question 2\n",
    "\n",
    "Next, let's define a `classes` table with a `Class` class. A `Class` should have the following columns:\n",
    "\n",
    "* a `name` (`String`) of the class\n",
    "* a `days` (`String`) of week representing the schedule (e.g. `M` for Monday schedule, `MW` for Monday + Wednesday schedule, `TR` for Tuesday + Thursday schedule, etc)\n",
    "* a `professor` (`String`) name\n",
    "\n",
    "as well as an `id` as a primary key.\n",
    "\n",
    "Again, be sure to define the `__tablename__` attribute within the `Class` class.\n",
    "\n",
    "[1 point]"
   ]
  },
  {
   "cell_type": "code",
   "execution_count": 20,
   "id": "949d18f7",
   "metadata": {},
   "outputs": [],
   "source": [
    "# Solution\n",
    "class Class(Base):\n",
    "    __tablename__ = \"classes\"\n",
    "    \n",
    "    id = Column(Integer, primary_key=True)\n",
    "    name = Column(String)\n",
    "    days = Column(String)\n",
    "    professor = Column(String)"
   ]
  },
  {
   "cell_type": "code",
   "execution_count": 21,
   "id": "2143e354",
   "metadata": {},
   "outputs": [],
   "source": [
    "# autograder tests\n",
    "assert Class.__table__.name == \"classes\"\n",
    "\n",
    "assert hasattr(Class, \"id\")\n",
    "assert isinstance(Class.id.type, Integer)\n",
    "\n",
    "actual_primary_key = inspect(Class).primary_key[0]\n",
    "assert \"id\" == actual_primary_key.name"
   ]
  },
  {
   "cell_type": "code",
   "execution_count": 22,
   "id": "99058b22",
   "metadata": {},
   "outputs": [],
   "source": [
    "assert hasattr(Class, \"name\")\n",
    "assert isinstance(Class.name.type, String)\n",
    "assert hasattr(Class, \"days\")\n",
    "assert isinstance(Class.days.type, String)\n",
    "assert hasattr(Class, \"professor\")\n",
    "assert isinstance(Class.professor.type, String)"
   ]
  },
  {
   "cell_type": "markdown",
   "id": "9f6f647b",
   "metadata": {},
   "source": [
    "## Question 3\n",
    "\n",
    "It makes sense that a class has students enrolled in it. And that students can be enrolled in one or more classes. We consider this a [many-to-many relationship](https://docs.sqlalchemy.org/en/14/orm/basic_relationships.html#many-to-many). (It may also be helpful to read [this part](https://docs.sqlalchemy.org/en/14/orm/tutorial.html#building-a-many-to-many-relationship) of the SQLAlchemy tutorial.)\n",
    "\n",
    "Defined for you is an association table, `student_classes`. You are to re-define both the `Student` and `Class` classes:\n",
    "\n",
    "Re-define your `Student` class (using the same table name and columns already defined) to include a `classes` attribute using SQLAlchemy's [`relationship()` method](https://docs.sqlalchemy.org/en/14/orm/relationship_api.html#sqlalchemy.orm.relationship). The relationship should be called with 3 arguments: one for the Python class that we're creating a relationship to; one for the [`back_populates`](https://docs.sqlalchemy.org/en/14/orm/relationship_api.html#sqlalchemy.orm.relationship.params.back_populates) argument; and one for [`secondary`](https://docs.sqlalchemy.org/en/14/orm/relationship_api.html#sqlalchemy.orm.relationship.params.secondary) to map to the association table.\n",
    "\n",
    "Do the same with your `Class` class with including a `students` attrubte using the `relationship()` method.\n",
    "\n",
    "\n",
    "[1.5 points]"
   ]
  },
  {
   "cell_type": "code",
   "execution_count": 23,
   "id": "c543e79e",
   "metadata": {},
   "outputs": [],
   "source": [
    "# solution\n",
    "from sqlalchemy.schema import ForeignKey\n",
    "from sqlalchemy import Table\n",
    "from sqlalchemy.orm import relationship\n",
    "\n",
    "\n",
    "Base = declarative_base()\n",
    "student_class = Table(\"student_classes\", Base.metadata,\n",
    "    Column(\"student_id\", ForeignKey(\"students.id\"), primary_key=True),\n",
    "    Column(\"class_id\", ForeignKey(\"classes.id\"), primary_key=True),\n",
    "                      \n",
    ")\n",
    "\n",
    "\n",
    "class Student(Base):\n",
    "    __tablename__ = \"students\"\n",
    "    \n",
    "    id = Column(Integer, primary_key=True)\n",
    "    uni = Column(String)\n",
    "    fullname = Column(String)\n",
    "    nickname = Column(String)\n",
    "    graduation_date = Column(Date)\n",
    "    balance = Column(Float)\n",
    "    \n",
    "    classes = relationship(\n",
    "        \"Class\", back_populates=\"students\", secondary=student_class\n",
    "    )\n",
    "    \n",
    "\n",
    "class Class(Base):\n",
    "    __tablename__ = \"classes\"\n",
    "    \n",
    "    id = Column(Integer, primary_key=True)\n",
    "    name = Column(String)\n",
    "    days = Column(String)\n",
    "    professor = Column(String)\n",
    "    \n",
    "    students = relationship(\n",
    "        \"Student\", back_populates=\"classes\", secondary=student_class\n",
    "    )"
   ]
  },
  {
   "cell_type": "code",
   "execution_count": 24,
   "id": "94ef5817",
   "metadata": {},
   "outputs": [],
   "source": [
    "# autograder tests\n",
    "from sqlalchemy import create_engine\n",
    "engine = create_engine(\"sqlite:///:memory:\")\n",
    "Base.metadata.create_all(engine)"
   ]
  },
  {
   "cell_type": "code",
   "execution_count": 25,
   "id": "e17deda5",
   "metadata": {},
   "outputs": [],
   "source": [
    "tables = Base.metadata.tables\n",
    "\n",
    "table_names = tables.keys()\n",
    "exp_tables = [\"classes\", \"students\", \"student_classes\"]\n",
    "\n",
    "assert sorted(table_names) == sorted(exp_tables)"
   ]
  },
  {
   "cell_type": "code",
   "execution_count": 26,
   "id": "d8730922",
   "metadata": {},
   "outputs": [],
   "source": [
    "from sqlalchemy.orm.relationships import RelationshipProperty\n",
    "\n",
    "assert isinstance(Student.classes.property, RelationshipProperty)\n",
    "assert isinstance(Class.students.property, RelationshipProperty)"
   ]
  },
  {
   "cell_type": "markdown",
   "id": "ac590010",
   "metadata": {},
   "source": [
    "## Question 4\n",
    "\n",
    "Let's now add some data into our two tables.\n",
    "\n",
    "With the data provided below, create 3 students using your `Student` class, create 4 classes using your `Class` class, and make sure the students are \"enrolled\" in the listed classes. You'll then use `session.add_all` and `session.commit` to add the 3 students and 2 classes to your database.\n",
    "\n",
    "**Students:**\n",
    "\n",
    "| UNI    | Fullname          | Nickname | Graduation Date   | Balance | Classes   |\n",
    "|--------|-------------------|----------|-------------------|---------|-----------|\n",
    "| ab1234 | Elizabeth Rose    | Liz      | May 1, 2023       | 0       | Stochastic Models |\n",
    "| cd5678 | Jon-Paul Phillips | JP       | December 15, 2022 | 526.50  | Stochastic Models, Data Analytics & Machine Learning |\n",
    "| ef0987 | Idris Sanders     |          | May 1, 2024       | 392.12  | Data Analytics & Machine Learning, Foundations of Data Science |\n",
    "\n",
    "**Classes:**\n",
    "\n",
    "| Name                              | Days | Professor       |\n",
    "|-----------------------------------|------|-----------------|\n",
    "| Stochastic Models                 | TR   | Marcus Brown    |\n",
    "| Data Analytics & Machine Learning | MW   | Grace Robbinson |\n",
    "| Foundations of Data Science       | T    | Shannon Wells   |\n",
    "| Reinforcement Learning            | WF   | Joe Greene      |\n",
    "\n",
    "\n",
    "Name your variables like so: `student1`, `student2`, `class1`, etc.\n",
    "\n",
    "[2 points]"
   ]
  },
  {
   "cell_type": "code",
   "execution_count": 27,
   "id": "5890df2d",
   "metadata": {},
   "outputs": [],
   "source": [
    "# solution\n",
    "import datetime \n",
    "from sqlalchemy.orm import sessionmaker\n",
    "Session = sessionmaker(bind=engine)\n",
    "session = Session()\n",
    "\n",
    "\n",
    "student1 = Student(\n",
    "    uni=\"ab1234\", \n",
    "    fullname=\"Elizabeth Rose\", \n",
    "    nickname=\"Liz\",\n",
    "    graduation_date=datetime.date(2023, 5, 1),\n",
    "    balance=0,\n",
    ")\n",
    "\n",
    "student2 = Student(\n",
    "    uni=\"cd5678\",\n",
    "    fullname=\"Jon-Paul Phillips\",\n",
    "    nickname=\"JP\",\n",
    "    graduation_date=datetime.date(2022, 12, 15),\n",
    "    balance=526.50,\n",
    ")\n",
    "\n",
    "student3 = Student(\n",
    "    uni=\"ef0987\",\n",
    "    fullname=\"Idris Sanders\",\n",
    "    graduation_date=datetime.date(2024, 5, 1),\n",
    "    balance=392.12\n",
    ")\n",
    "\n",
    "class1 = Class(\n",
    "    name=\"Stochastic Models\",\n",
    "    days=\"TR\",\n",
    "    professor=\"Marcus Brown\"\n",
    ")\n",
    "class2 = Class(\n",
    "    name=\"Data Analytics & Machine Learning\",\n",
    "    days=\"MW\",\n",
    "    professor=\"Grace Robbinson\"\n",
    ")\n",
    "class3 = Class(\n",
    "    name=\"Foundations of Data Science\",\n",
    "    days=\"T\",\n",
    "    professor=\"Shannon Wells\"\n",
    ")\n",
    "class4 = Class(\n",
    "    name=\"Reinforcement Learning\",\n",
    "    days=\"WF\",\n",
    "    professor=\"Joe Green\"\n",
    ")\n",
    "\n",
    "student1.classes.append(class1)\n",
    "student2.classes.extend([class1, class2])\n",
    "student3.classes.extend([class2, class3])\n",
    "\n",
    "\n",
    "session.add_all([\n",
    "    student1, student2, student3,\n",
    "    class1, class2, class3, class4\n",
    "])\n",
    "session.commit()"
   ]
  },
  {
   "cell_type": "code",
   "execution_count": 28,
   "id": "d42fda32",
   "metadata": {},
   "outputs": [],
   "source": [
    "# autograder tests\n",
    "results = session.query(Student).filter_by(uni=\"ab1234\").all()\n",
    "\n",
    "assert results[0] == student1\n",
    "assert results[0].classes == [class1]"
   ]
  },
  {
   "cell_type": "code",
   "execution_count": 29,
   "id": "51aa2fa8",
   "metadata": {},
   "outputs": [],
   "source": [
    "results = session.query(Student).filter_by(uni=\"cd5678\").all()\n",
    "\n",
    "assert results[0] == student2\n",
    "assert results[0].classes == [class1, class2]"
   ]
  },
  {
   "cell_type": "code",
   "execution_count": 30,
   "id": "534283ec",
   "metadata": {},
   "outputs": [],
   "source": [
    "results = session.query(Student).filter_by(uni=\"ef0987\").all()\n",
    "\n",
    "assert results[0] == student3\n",
    "assert results[0].classes == [class2, class3]"
   ]
  },
  {
   "cell_type": "code",
   "execution_count": 31,
   "id": "3c898620",
   "metadata": {},
   "outputs": [],
   "source": [
    "results = session.query(Class).filter_by(students=None).all()\n",
    "assert results == [class4]"
   ]
  },
  {
   "cell_type": "markdown",
   "id": "c413ad61",
   "metadata": {},
   "source": [
    "## Question 5\n",
    "\n",
    "Recall the types of joins we reviewed on Monday's lecture. Define a query against your database using SQLAlchemy's ORM with the `session.query` method that returns all classes (just the class `name`) and the number of enrolled students. Include classes that do not have any students enrolled. \n",
    "\n",
    "Assign your query to a variable called `result`.\n",
    "\n",
    "Be sure that the query is executed, so that the `result` is a `list` of `tuple`s containing two items each: the name of the class, and number of students enrolled. Order of the list does not matter.\n",
    "\n",
    "You may need to use [SQLAlchemy's `func` module](https://docs.sqlalchemy.org/en/14/core/functions.html) so it's been imported for you; but feel free to import other SQLAlchemy modules as needed.\n",
    "\n",
    "[1 point]"
   ]
  },
  {
   "cell_type": "code",
   "execution_count": 32,
   "id": "778f4e81",
   "metadata": {},
   "outputs": [],
   "source": [
    "from sqlalchemy import func\n",
    "\n",
    "# Solution\n",
    "result = session.query(Class.name, func.count(Student.id)).\\\n",
    "    outerjoin(Class.students).group_by(Class.name).all()"
   ]
  },
  {
   "cell_type": "code",
   "execution_count": 33,
   "id": "bc53ccd4",
   "metadata": {},
   "outputs": [],
   "source": [
    "# autograder tests\n",
    "expected = sorted([\n",
    "    ('Reinforcement Learning', 0),\n",
    "    ('Stochastic Models', 1),\n",
    "    ('Data Analytics & Machine Learning', 2),\n",
    "    ('Stochastic Models', 2)\n",
    "])\n",
    "assert expected == sorted(result)"
   ]
  }
 ],
 "metadata": {
  "kernelspec": {
   "display_name": "Python 3 (ipykernel)",
   "language": "python",
   "name": "python3"
  },
  "language_info": {
   "codemirror_mode": {
    "name": "ipython",
    "version": 3
   },
   "file_extension": ".py",
   "mimetype": "text/x-python",
   "name": "python",
   "nbconvert_exporter": "python",
   "pygments_lexer": "ipython3",
   "version": "3.9.9"
  }
 },
 "nbformat": 4,
 "nbformat_minor": 5
}
