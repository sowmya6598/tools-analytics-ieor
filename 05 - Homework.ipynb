{
 "cells": [
  {
   "cell_type": "markdown",
   "id": "1690fee6",
   "metadata": {},
   "source": [
    "# Homework 5: Data Structures & Algorithms\n",
    "\n",
    "Total questions: 3<br/>\n",
    "Total points: 10\n",
    "\n",
    "There are many details in each of the questions' prompts – be sure to read closely. Run the tests below your solutions to ensure you've implemented them correctly."
   ]
  },
  {
   "cell_type": "markdown",
   "id": "03e6a8f9",
   "metadata": {},
   "source": [
    "## Question 1\n",
    "\n",
    "Linked lists are a collection of nodes connect by a pointer. Each node holds a value and a pointer to the next node or to some unique value like `None` which indidcates the end of the list.\n",
    "\n",
    "Create a class `Node` that is instantiated with a value and a reference to the next node in the linked list. The value of the node should be accessible via an attribute named `value` on the node. A reference to the next node in the list should be accessible via an attribute named `next` on the node. If the node is the last node in a linked list, the node's `next` value should be `None`. Implement a `__repr__` method that returns a human-readable string representing the node in the format of `<Node(X)>` where `X` is the value of the node instance.\n",
    "\n",
    "Create a function `insert` that takes a reference to the first node in a linked list, a new `value`, and a position and inserts the a new node with the given value at the given position in the list. The first node of the updated list should be returned. If the position is farther than the length of the list, an `IndexError` should be raised.\n",
    "\n",
    "Create a function `pop` that takes a reference to the first node in a linked list and a position and removes the node at that position in the linked list. This function should return two items: the popped node and the head of the linked list in a tuple. If there are no more nodes to pop, raise an `IndexError`.\n",
    "\n",
    "Create a function `stringify_linked_list` that takes a reference to the first node of a linked list and returns a printable string of all nodes in the linked list. See the test cases below for how to format the expected string output.\n",
    "\n",
    "[6 points]"
   ]
  },
  {
   "cell_type": "code",
   "execution_count": 1,
   "id": "f9383605",
   "metadata": {},
   "outputs": [],
   "source": [
    "class Node:\n",
    "    def __init__(self, value, next_node):\n",
    "        self.value = value\n",
    "        self.next = next_node\n",
    "        \n",
    "    def __repr__(self):\n",
    "        return f'<Node ({self.value})>'\n",
    "\n",
    "    \n",
    "def insert(head, value, position):\n",
    "    last_node = None\n",
    "    curr_node = head\n",
    "    \n",
    "    for _ in range(position):\n",
    "        if curr_node is None:\n",
    "            raise IndexError('Ran out of nodes!')\n",
    "\n",
    "        last_node = curr_node\n",
    "        curr_node = curr_node.next\n",
    "    \n",
    "    # we did not iterate through loop, head needs to be new node\n",
    "    if last_node is None:\n",
    "        head = Node(value, head)\n",
    "    else:\n",
    "        # we need to insert between last node and current node\n",
    "        last_node.next = Node(value, curr_node)\n",
    "    \n",
    "    return head\n",
    "\n",
    "\n",
    "def pop(head, position):\n",
    "    last_node = None\n",
    "    curr_node = head\n",
    "    \n",
    "    for _ in range(position):\n",
    "        if curr_node is None:\n",
    "            raise IndexError('Ran out of nodes!')\n",
    "\n",
    "        last_node = curr_node\n",
    "        curr_node = curr_node.next\n",
    "\n",
    "    if last_node is None:\n",
    "        # we did not iterate through loop, popped node is head node\n",
    "        return head, head.next\n",
    "\n",
    "    else:\n",
    "        if curr_node is not None:\n",
    "            # pop node between last_node and curr_node.next\n",
    "            last_node.next = curr_node.next \n",
    "        else:\n",
    "            # There is not \"next\" node to connect to!\n",
    "            raise IndexError('Ran out of nodes!')\n",
    "        return curr_node, head\n",
    "    \n",
    "\n",
    "def stringify_linked_list(head):\n",
    "    string = ''\n",
    "    while head is not None:\n",
    "        string += f'{repr(head)} -> '\n",
    "        head = head.next\n",
    "    string += 'None'\n",
    "    return string"
   ]
  },
  {
   "cell_type": "code",
   "execution_count": 2,
   "id": "4c814490",
   "metadata": {},
   "outputs": [],
   "source": [
    "# autograder tests\n",
    "assert repr(Node(-1, None)) == '<Node (-1)>'"
   ]
  },
  {
   "cell_type": "code",
   "execution_count": 3,
   "id": "61cce347",
   "metadata": {},
   "outputs": [],
   "source": [
    "# autograder tests\n",
    "n1 = Node(4, None)\n",
    "assert n1.value == 4\n",
    "assert n1.next is None"
   ]
  },
  {
   "cell_type": "code",
   "execution_count": 4,
   "id": "2acce944",
   "metadata": {},
   "outputs": [],
   "source": [
    "# autograder tests\n",
    "n2 = Node(8, n1)\n",
    "assert n2.value == 8\n",
    "assert n2.next is n1"
   ]
  },
  {
   "cell_type": "code",
   "execution_count": 5,
   "id": "fddd321e",
   "metadata": {},
   "outputs": [],
   "source": [
    "# autograder tests\n",
    "head = None\n",
    "for i in range(3):\n",
    "    head = Node(i, head)\n",
    "assert stringify_linked_list(head) == '<Node (2)> -> <Node (1)> -> <Node (0)> -> None'"
   ]
  },
  {
   "cell_type": "code",
   "execution_count": 6,
   "id": "a42a9f26",
   "metadata": {},
   "outputs": [],
   "source": [
    "# autograder tests\n",
    "head = None\n",
    "for i in range(3):\n",
    "    head = Node(i, head)\n",
    "head = insert(head, 0, 0)\n",
    "assert stringify_linked_list(head) == '<Node (0)> -> <Node (2)> -> <Node (1)> -> <Node (0)> -> None'"
   ]
  },
  {
   "cell_type": "code",
   "execution_count": 7,
   "id": "1d417968",
   "metadata": {},
   "outputs": [],
   "source": [
    "# autograder tests\n",
    "head = None\n",
    "for i in range(3):\n",
    "    head = Node(i, head)\n",
    "head = insert(head, 0, 1)\n",
    "assert stringify_linked_list(head) == '<Node (2)> -> <Node (0)> -> <Node (1)> -> <Node (0)> -> None'"
   ]
  },
  {
   "cell_type": "code",
   "execution_count": 8,
   "id": "53181844",
   "metadata": {},
   "outputs": [],
   "source": [
    "# autograder tests\n",
    "head = None\n",
    "for i in range(3):\n",
    "    head = Node(i, head)\n",
    "head = insert(head, -1, 3)\n",
    "assert stringify_linked_list(head) == '<Node (2)> -> <Node (1)> -> <Node (0)> -> <Node (-1)> -> None'"
   ]
  },
  {
   "cell_type": "code",
   "execution_count": 9,
   "id": "1c0750f2",
   "metadata": {},
   "outputs": [],
   "source": [
    "# autograder tests\n",
    "head = None\n",
    "for i in range(3):\n",
    "    head = Node(i, head)\n",
    "\n",
    "try:\n",
    "    insert(head, 0, 4)\n",
    "    assert False, 'Should have failed with an IndexError'\n",
    "except IndexError:\n",
    "    pass"
   ]
  },
  {
   "cell_type": "code",
   "execution_count": 10,
   "id": "69bc6da8",
   "metadata": {},
   "outputs": [],
   "source": [
    "# autograder tests\n",
    "head = None\n",
    "for i in range(3):\n",
    "    head = Node(i, head)\n",
    "    \n",
    "popped_node, head = pop(head, 1)\n",
    "assert popped_node.value == 1, popped_node.value\n",
    "assert stringify_linked_list(head) == '<Node (2)> -> <Node (0)> -> None'"
   ]
  },
  {
   "cell_type": "code",
   "execution_count": 11,
   "id": "be6b6034",
   "metadata": {},
   "outputs": [],
   "source": [
    "# autograder tests\n",
    "head = None\n",
    "for i in range(3):\n",
    "    head = Node(i, head)\n",
    "    \n",
    "popped_node, head = pop(head, 0)\n",
    "assert popped_node.value == 2, popped_node.value\n",
    "assert stringify_linked_list(head) == '<Node (1)> -> <Node (0)> -> None'"
   ]
  },
  {
   "cell_type": "code",
   "execution_count": 12,
   "id": "9966aaf0",
   "metadata": {},
   "outputs": [],
   "source": [
    "# autograder tests\n",
    "head = None\n",
    "for i in range(3):\n",
    "    head = Node(i, head)\n",
    "    \n",
    "popped_node, head = pop(head, 2)\n",
    "assert popped_node.value == 0\n",
    "assert stringify_linked_list(head) == '<Node (2)> -> <Node (1)> -> None'"
   ]
  },
  {
   "cell_type": "code",
   "execution_count": 13,
   "id": "ba7f7dfd",
   "metadata": {},
   "outputs": [],
   "source": [
    "# autograder tests\n",
    "head = None\n",
    "for i in range(3):\n",
    "    head = Node(i, head)\n",
    "\n",
    "try:\n",
    "    pop(head, 3)\n",
    "    assert False, 'Should have failed with an IndexError'\n",
    "except IndexError:\n",
    "    pass"
   ]
  },
  {
   "cell_type": "markdown",
   "id": "eaf2cf23",
   "metadata": {},
   "source": [
    "## Question 2\n",
    "\n",
    "Complete the implementation of bubble sort.\n",
    "\n",
    "All sorting operations must be done on the list passed in. No new lists can be created. The function does not need to return the sorted list since the sorting will be done in-place (ie. using the same memory as the original list). You can not use the `.append` or `.extend` methods on a list. You must use the bubble sort algorithm. Assume that all members of `my_list` are integers.\n",
    "\n",
    "[2 point]"
   ]
  },
  {
   "cell_type": "code",
   "execution_count": 14,
   "id": "f3a224c8",
   "metadata": {},
   "outputs": [],
   "source": [
    "def bubble_sort(my_int_list):\n",
    "    swap_occurred = True  # kick start the while loop\n",
    "    while swap_occurred:\n",
    "        swap_occurred = False\n",
    "        for i in range(len(my_int_list) - 1):\n",
    "            a = my_int_list[i]\n",
    "            b = my_int_list[i + 1]\n",
    "            if a > b:\n",
    "                my_int_list[i] = b\n",
    "                my_int_list[i + 1] = a\n",
    "                swap_occurred = True"
   ]
  },
  {
   "cell_type": "code",
   "execution_count": 15,
   "id": "191f57c3",
   "metadata": {},
   "outputs": [],
   "source": [
    "# autograder tests\n",
    "a_list = [3, 1, 2]\n",
    "bubble_sort(a_list)\n",
    "assert a_list == [1, 2, 3]"
   ]
  },
  {
   "cell_type": "code",
   "execution_count": 16,
   "id": "393be5db",
   "metadata": {},
   "outputs": [],
   "source": [
    "# autograder tests\n",
    "a_list = [1, 2, 3]\n",
    "bubble_sort(a_list)\n",
    "assert a_list == [1, 2, 3]"
   ]
  },
  {
   "cell_type": "code",
   "execution_count": 17,
   "id": "cfbdab35",
   "metadata": {},
   "outputs": [],
   "source": [
    "# autograder tests\n",
    "a_list = []\n",
    "bubble_sort(a_list)\n",
    "assert a_list == []\n",
    "\n",
    "a_list = [1]\n",
    "bubble_sort(a_list)\n",
    "assert a_list == [1]"
   ]
  },
  {
   "cell_type": "code",
   "execution_count": 18,
   "id": "aa49e201",
   "metadata": {},
   "outputs": [],
   "source": [
    "# autograder tests\n",
    "import random\n",
    "for _ in range(100):\n",
    "    list_ = [random.randint(0, 100) for _ in range(100)]\n",
    "    sorted_list = sorted(list_)\n",
    "    assert list_ != sorted_list\n",
    "    bubble_sort(list_)\n",
    "    assert list_ == sorted_list"
   ]
  },
  {
   "cell_type": "markdown",
   "id": "caee9cac",
   "metadata": {},
   "source": [
    "## Question 3\n",
    "\n",
    "Complete the function `binary_search`.\n",
    "\n",
    "Return `True` if `item` is in `sorted_list` and `False` if not. Your function must implement the `binary_search` algorithm using recursion. Assume that all members of `sorted_list` are integers. If you use except clauses, they must not be bare (ie. the must catch one or more specific error types).\n",
    "\n",
    "[2 points]"
   ]
  },
  {
   "cell_type": "code",
   "execution_count": 19,
   "id": "c520da63",
   "metadata": {},
   "outputs": [],
   "source": [
    "def binary_search(item, sorted_int_list):\n",
    "    if not sorted_int_list:\n",
    "        return False\n",
    "\n",
    "    midpoint = len(sorted_int_list) // 2\n",
    "    value = sorted_int_list[midpoint]\n",
    "    if value == item:\n",
    "        return True\n",
    "    elif value < item:\n",
    "        return binary_search(item, sorted_int_list[midpoint + 1:])\n",
    "    elif value > item:\n",
    "        return binary_search(item, sorted_int_list[:midpoint])"
   ]
  },
  {
   "cell_type": "code",
   "execution_count": 20,
   "id": "727c7a0a",
   "metadata": {},
   "outputs": [],
   "source": [
    "# autograder tests\n",
    "assert binary_search(4, [1, 2, 3, 4, 5])  # Basic functionality test\n",
    "assert not binary_search(2.5, [1, 2, 3, 4, 5])\n",
    "assert not binary_search(5, [])\n",
    "assert binary_search(5, [5])"
   ]
  },
  {
   "cell_type": "code",
   "execution_count": 21,
   "id": "7d0267f8",
   "metadata": {},
   "outputs": [],
   "source": [
    "# autograder tests\n",
    "list_ = sorted(random.randint(0, 1000) for _ in range(100))\n",
    "# Heavy functionality test\n",
    "for x in range(1001):\n",
    "    assert binary_search(x, list_) == (x in list_), x"
   ]
  },
  {
   "cell_type": "code",
   "execution_count": 22,
   "id": "b6c0dc48",
   "metadata": {},
   "outputs": [],
   "source": [
    "# autograder tests\n",
    "from bdb import Bdb\n",
    "import sys\n",
    "\n",
    "class RecursionDetected(Exception):\n",
    "    pass\n",
    "\n",
    "class RecursionDetector(Bdb):\n",
    "    def do_clear(self, arg):\n",
    "        pass\n",
    "\n",
    "    def __init__(self, *args):\n",
    "        Bdb.__init__(self, *args)\n",
    "        self.stack = set()\n",
    "\n",
    "    def user_call(self, frame, argument_list):\n",
    "        code = frame.f_code\n",
    "        if code in self.stack:\n",
    "            raise RecursionDetected\n",
    "        self.stack.add(code)\n",
    "\n",
    "    def user_return(self, frame, return_value):\n",
    "        self.stack.remove(frame.f_code)\n",
    "\n",
    "\n",
    "def test_recursion(func):\n",
    "    detector = RecursionDetector()\n",
    "    detector.set_trace()\n",
    "    try:\n",
    "        func()\n",
    "    except RecursionDetected:\n",
    "        return True\n",
    "    else:\n",
    "        return False\n",
    "    finally:\n",
    "        sys.settrace(None)\n",
    "        \n",
    "\n",
    "assert test_recursion(lambda: binary_search(3, [1, 2, 3]))"
   ]
  }
 ],
 "metadata": {
  "kernelspec": {
   "display_name": "Python 3 (ipykernel)",
   "language": "python",
   "name": "python3"
  },
  "language_info": {
   "codemirror_mode": {
    "name": "ipython",
    "version": 3
   },
   "file_extension": ".py",
   "mimetype": "text/x-python",
   "name": "python",
   "nbconvert_exporter": "python",
   "pygments_lexer": "ipython3",
   "version": "3.9.9"
  }
 },
 "nbformat": 4,
 "nbformat_minor": 5
}
